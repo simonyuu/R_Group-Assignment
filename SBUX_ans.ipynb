{
 "cells": [
  {
   "cell_type": "markdown",
   "id": "bdfd0d2e",
   "metadata": {},
   "source": [
    "---\n",
    "title: \"Group Assignment 1\"\n",
    "author: \"Simon Yu\"\n",
    "date: \"2025-10-01\"\n",
    "format: pdf\n",
    "---\n",
    "\\newpage\n",
    "\\tableofcontents\n",
    "\\listoffigures\n",
    "\\listoftables\n",
    "\\newpage"
   ]
  },
  {
   "cell_type": "code",
   "execution_count": 16,
   "id": "62d1f63f",
   "metadata": {
    "vscode": {
     "languageId": "r"
    }
   },
   "outputs": [],
   "source": [
    "library(dplyr)"
   ]
  },
  {
   "cell_type": "code",
   "execution_count": 17,
   "id": "68677d14",
   "metadata": {
    "vscode": {
     "languageId": "r"
    }
   },
   "outputs": [],
   "source": [
    "data <- read.csv(\"compustat_food_bev.csv\")\n",
    "\n",
    "# filter data for Starbucks (SBUX)\n",
    "sbux_data <- filter(data, tic == \"SBUX\")\n",
    "\n",
    "# convert datadate to Date type\n",
    "sbux_data$datadate <- as.Date(sbux_data$datadate, format = \"%d/%m/%Y\")"
   ]
  },
  {
   "cell_type": "markdown",
   "id": "111ab170",
   "metadata": {},
   "source": [
    "## Question 1"
   ]
  },
  {
   "cell_type": "code",
   "execution_count": null,
   "id": "0e88d425",
   "metadata": {
    "vscode": {
     "languageId": "r"
    }
   },
   "outputs": [],
   "source": [
    "#1. Add a new column named daily_return\n",
    "sbux_data <- mutate(sbux_data, daily_return = (prccd - lag(prccd)) / lag(prccd))\n",
    "sbux_data <- filter(sbux_data, !is.na(daily_return))"
   ]
  },
  {
   "cell_type": "markdown",
   "id": "d011f71b",
   "metadata": {},
   "source": [
    "## Question 2"
   ]
  },
  {
   "cell_type": "code",
   "execution_count": 19,
   "id": "89c053ea",
   "metadata": {
    "vscode": {
     "languageId": "r"
    }
   },
   "outputs": [],
   "source": [
    "#2. Add a new column named 10-day momentum indicator\n",
    "sbux_data <- mutate(sbux_data, momentum_10 = prccd - lag(prccd, 10))\n",
    "sbux_data <- filter(sbux_data, !is.na(momentum_10))"
   ]
  },
  {
   "cell_type": "markdown",
   "id": "dce707c8",
   "metadata": {},
   "source": [
    "## Question 3"
   ]
  },
  {
   "cell_type": "code",
   "execution_count": 20,
   "id": "0a55d1d7",
   "metadata": {
    "vscode": {
     "languageId": "r"
    }
   },
   "outputs": [],
   "source": [
    "#3. Add a new column named daily_range\n",
    "sbux_data <- mutate(sbux_data, daily_range = prchd - prcld)"
   ]
  },
  {
   "cell_type": "markdown",
   "id": "c2767a16",
   "metadata": {},
   "source": [
    "## Question 4"
   ]
  },
  {
   "cell_type": "code",
   "execution_count": 21,
   "id": "9e1f2b56",
   "metadata": {
    "vscode": {
     "languageId": "r"
    }
   },
   "outputs": [],
   "source": [
    "#4. Add a new column named MFV\n",
    "sbux_data <- mutate(sbux_data, \n",
    "            mfv = ((prccd - prcld) - (prchd - prccd)) * cshtrd / (prchd - prcld))"
   ]
  },
  {
   "cell_type": "code",
   "execution_count": 22,
   "id": "e7971d03",
   "metadata": {
    "vscode": {
     "languageId": "r"
    }
   },
   "outputs": [
    {
     "data": {
      "text/html": [
       "<table class=\"dataframe\">\n",
       "<caption>A data.frame: 10 × 5</caption>\n",
       "<thead>\n",
       "\t<tr><th></th><th scope=col>datadate</th><th scope=col>daily_return</th><th scope=col>momentum_10</th><th scope=col>daily_range</th><th scope=col>mfv</th></tr>\n",
       "\t<tr><th></th><th scope=col>&lt;date&gt;</th><th scope=col>&lt;dbl&gt;</th><th scope=col>&lt;dbl&gt;</th><th scope=col>&lt;dbl&gt;</th><th scope=col>&lt;dbl&gt;</th></tr>\n",
       "</thead>\n",
       "<tbody>\n",
       "\t<tr><th scope=row>1</th><td>2020-09-17</td><td>-0.0184430867</td><td>-1.60</td><td>1.965</td><td> 3099384.35</td></tr>\n",
       "\t<tr><th scope=row>2</th><td>2020-09-18</td><td>-0.0207492795</td><td>-1.53</td><td>2.640</td><td>-7430383.71</td></tr>\n",
       "\t<tr><th scope=row>3</th><td>2020-09-21</td><td>-0.0124779282</td><td>-2.38</td><td>2.200</td><td> 6782798.69</td></tr>\n",
       "\t<tr><th scope=row>4</th><td>2020-09-22</td><td> 0.0007152223</td><td>-1.46</td><td>1.215</td><td> 1229446.42</td></tr>\n",
       "\t<tr><th scope=row>5</th><td>2020-09-23</td><td>-0.0114353782</td><td>-2.87</td><td>2.080</td><td>-5361087.23</td></tr>\n",
       "\t<tr><th scope=row>6</th><td>2020-09-24</td><td> 0.0006024822</td><td>-1.84</td><td>2.220</td><td>   43793.63</td></tr>\n",
       "\t<tr><th scope=row>7</th><td>2020-09-25</td><td> 0.0151734104</td><td>-0.97</td><td>2.470</td><td> 4090548.53</td></tr>\n",
       "\t<tr><th scope=row>8</th><td>2020-09-28</td><td> 0.0209964413</td><td>-0.56</td><td>1.250</td><td> 4346617.91</td></tr>\n",
       "\t<tr><th scope=row>9</th><td>2020-09-29</td><td>-0.0147554316</td><td>-2.91</td><td>1.625</td><td>-3184804.85</td></tr>\n",
       "\t<tr><th scope=row>10</th><td>2020-09-30</td><td> 0.0132075472</td><td>-2.46</td><td>1.690</td><td>-4730361.07</td></tr>\n",
       "</tbody>\n",
       "</table>\n"
      ],
      "text/latex": [
       "A data.frame: 10 × 5\n",
       "\\begin{tabular}{r|lllll}\n",
       "  & datadate & daily\\_return & momentum\\_10 & daily\\_range & mfv\\\\\n",
       "  & <date> & <dbl> & <dbl> & <dbl> & <dbl>\\\\\n",
       "\\hline\n",
       "\t1 & 2020-09-17 & -0.0184430867 & -1.60 & 1.965 &  3099384.35\\\\\n",
       "\t2 & 2020-09-18 & -0.0207492795 & -1.53 & 2.640 & -7430383.71\\\\\n",
       "\t3 & 2020-09-21 & -0.0124779282 & -2.38 & 2.200 &  6782798.69\\\\\n",
       "\t4 & 2020-09-22 &  0.0007152223 & -1.46 & 1.215 &  1229446.42\\\\\n",
       "\t5 & 2020-09-23 & -0.0114353782 & -2.87 & 2.080 & -5361087.23\\\\\n",
       "\t6 & 2020-09-24 &  0.0006024822 & -1.84 & 2.220 &    43793.63\\\\\n",
       "\t7 & 2020-09-25 &  0.0151734104 & -0.97 & 2.470 &  4090548.53\\\\\n",
       "\t8 & 2020-09-28 &  0.0209964413 & -0.56 & 1.250 &  4346617.91\\\\\n",
       "\t9 & 2020-09-29 & -0.0147554316 & -2.91 & 1.625 & -3184804.85\\\\\n",
       "\t10 & 2020-09-30 &  0.0132075472 & -2.46 & 1.690 & -4730361.07\\\\\n",
       "\\end{tabular}\n"
      ],
      "text/markdown": [
       "\n",
       "A data.frame: 10 × 5\n",
       "\n",
       "| <!--/--> | datadate &lt;date&gt; | daily_return &lt;dbl&gt; | momentum_10 &lt;dbl&gt; | daily_range &lt;dbl&gt; | mfv &lt;dbl&gt; |\n",
       "|---|---|---|---|---|---|\n",
       "| 1 | 2020-09-17 | -0.0184430867 | -1.60 | 1.965 |  3099384.35 |\n",
       "| 2 | 2020-09-18 | -0.0207492795 | -1.53 | 2.640 | -7430383.71 |\n",
       "| 3 | 2020-09-21 | -0.0124779282 | -2.38 | 2.200 |  6782798.69 |\n",
       "| 4 | 2020-09-22 |  0.0007152223 | -1.46 | 1.215 |  1229446.42 |\n",
       "| 5 | 2020-09-23 | -0.0114353782 | -2.87 | 2.080 | -5361087.23 |\n",
       "| 6 | 2020-09-24 |  0.0006024822 | -1.84 | 2.220 |    43793.63 |\n",
       "| 7 | 2020-09-25 |  0.0151734104 | -0.97 | 2.470 |  4090548.53 |\n",
       "| 8 | 2020-09-28 |  0.0209964413 | -0.56 | 1.250 |  4346617.91 |\n",
       "| 9 | 2020-09-29 | -0.0147554316 | -2.91 | 1.625 | -3184804.85 |\n",
       "| 10 | 2020-09-30 |  0.0132075472 | -2.46 | 1.690 | -4730361.07 |\n",
       "\n"
      ],
      "text/plain": [
       "   datadate   daily_return  momentum_10 daily_range mfv        \n",
       "1  2020-09-17 -0.0184430867 -1.60       1.965        3099384.35\n",
       "2  2020-09-18 -0.0207492795 -1.53       2.640       -7430383.71\n",
       "3  2020-09-21 -0.0124779282 -2.38       2.200        6782798.69\n",
       "4  2020-09-22  0.0007152223 -1.46       1.215        1229446.42\n",
       "5  2020-09-23 -0.0114353782 -2.87       2.080       -5361087.23\n",
       "6  2020-09-24  0.0006024822 -1.84       2.220          43793.63\n",
       "7  2020-09-25  0.0151734104 -0.97       2.470        4090548.53\n",
       "8  2020-09-28  0.0209964413 -0.56       1.250        4346617.91\n",
       "9  2020-09-29 -0.0147554316 -2.91       1.625       -3184804.85\n",
       "10 2020-09-30  0.0132075472 -2.46       1.690       -4730361.07"
      ]
     },
     "metadata": {},
     "output_type": "display_data"
    }
   ],
   "source": [
    "# show the table containing only the new 4 metrics columns\n",
    "sbux_data_metrics <- filter(sbux_data[ , \n",
    "                    c(\"datadate\", \"daily_return\", \"momentum_10\", \"daily_range\", \"mfv\")])\n",
    "\n",
    "head(sbux_data_metrics, 10)"
   ]
  },
  {
   "cell_type": "markdown",
   "id": "ff0510f2",
   "metadata": {},
   "source": [
    "## Question 5"
   ]
  },
  {
   "cell_type": "code",
   "execution_count": 23,
   "id": "6b14dfc6",
   "metadata": {
    "vscode": {
     "languageId": "r"
    }
   },
   "outputs": [],
   "source": [
    "library(lubridate)"
   ]
  },
  {
   "cell_type": "code",
   "execution_count": 24,
   "id": "a37e55ec",
   "metadata": {
    "vscode": {
     "languageId": "r"
    }
   },
   "outputs": [],
   "source": [
    "#5. Add a new column named month\n",
    "sbux_data <- mutate(sbux_data, month = month(datadate))"
   ]
  },
  {
   "cell_type": "markdown",
   "id": "ea6e59cd",
   "metadata": {},
   "source": [
    "## Question 6"
   ]
  },
  {
   "cell_type": "code",
   "execution_count": 25,
   "id": "84e718c8",
   "metadata": {
    "vscode": {
     "languageId": "r"
    }
   },
   "outputs": [],
   "source": [
    "#6. Add a new column named year\n",
    "sbux_data <- mutate(sbux_data, year = year(datadate))"
   ]
  },
  {
   "cell_type": "code",
   "execution_count": 26,
   "id": "5b687f98",
   "metadata": {
    "vscode": {
     "languageId": "r"
    }
   },
   "outputs": [
    {
     "data": {
      "text/html": [
       "<table class=\"dataframe\">\n",
       "<caption>A data.frame: 10 × 3</caption>\n",
       "<thead>\n",
       "\t<tr><th></th><th scope=col>datadate</th><th scope=col>month</th><th scope=col>year</th></tr>\n",
       "\t<tr><th></th><th scope=col>&lt;date&gt;</th><th scope=col>&lt;dbl&gt;</th><th scope=col>&lt;dbl&gt;</th></tr>\n",
       "</thead>\n",
       "<tbody>\n",
       "\t<tr><th scope=row>1</th><td>2020-09-17</td><td>9</td><td>2020</td></tr>\n",
       "\t<tr><th scope=row>2</th><td>2020-09-18</td><td>9</td><td>2020</td></tr>\n",
       "\t<tr><th scope=row>3</th><td>2020-09-21</td><td>9</td><td>2020</td></tr>\n",
       "\t<tr><th scope=row>4</th><td>2020-09-22</td><td>9</td><td>2020</td></tr>\n",
       "\t<tr><th scope=row>5</th><td>2020-09-23</td><td>9</td><td>2020</td></tr>\n",
       "\t<tr><th scope=row>6</th><td>2020-09-24</td><td>9</td><td>2020</td></tr>\n",
       "\t<tr><th scope=row>7</th><td>2020-09-25</td><td>9</td><td>2020</td></tr>\n",
       "\t<tr><th scope=row>8</th><td>2020-09-28</td><td>9</td><td>2020</td></tr>\n",
       "\t<tr><th scope=row>9</th><td>2020-09-29</td><td>9</td><td>2020</td></tr>\n",
       "\t<tr><th scope=row>10</th><td>2020-09-30</td><td>9</td><td>2020</td></tr>\n",
       "</tbody>\n",
       "</table>\n"
      ],
      "text/latex": [
       "A data.frame: 10 × 3\n",
       "\\begin{tabular}{r|lll}\n",
       "  & datadate & month & year\\\\\n",
       "  & <date> & <dbl> & <dbl>\\\\\n",
       "\\hline\n",
       "\t1 & 2020-09-17 & 9 & 2020\\\\\n",
       "\t2 & 2020-09-18 & 9 & 2020\\\\\n",
       "\t3 & 2020-09-21 & 9 & 2020\\\\\n",
       "\t4 & 2020-09-22 & 9 & 2020\\\\\n",
       "\t5 & 2020-09-23 & 9 & 2020\\\\\n",
       "\t6 & 2020-09-24 & 9 & 2020\\\\\n",
       "\t7 & 2020-09-25 & 9 & 2020\\\\\n",
       "\t8 & 2020-09-28 & 9 & 2020\\\\\n",
       "\t9 & 2020-09-29 & 9 & 2020\\\\\n",
       "\t10 & 2020-09-30 & 9 & 2020\\\\\n",
       "\\end{tabular}\n"
      ],
      "text/markdown": [
       "\n",
       "A data.frame: 10 × 3\n",
       "\n",
       "| <!--/--> | datadate &lt;date&gt; | month &lt;dbl&gt; | year &lt;dbl&gt; |\n",
       "|---|---|---|---|\n",
       "| 1 | 2020-09-17 | 9 | 2020 |\n",
       "| 2 | 2020-09-18 | 9 | 2020 |\n",
       "| 3 | 2020-09-21 | 9 | 2020 |\n",
       "| 4 | 2020-09-22 | 9 | 2020 |\n",
       "| 5 | 2020-09-23 | 9 | 2020 |\n",
       "| 6 | 2020-09-24 | 9 | 2020 |\n",
       "| 7 | 2020-09-25 | 9 | 2020 |\n",
       "| 8 | 2020-09-28 | 9 | 2020 |\n",
       "| 9 | 2020-09-29 | 9 | 2020 |\n",
       "| 10 | 2020-09-30 | 9 | 2020 |\n",
       "\n"
      ],
      "text/plain": [
       "   datadate   month year\n",
       "1  2020-09-17 9     2020\n",
       "2  2020-09-18 9     2020\n",
       "3  2020-09-21 9     2020\n",
       "4  2020-09-22 9     2020\n",
       "5  2020-09-23 9     2020\n",
       "6  2020-09-24 9     2020\n",
       "7  2020-09-25 9     2020\n",
       "8  2020-09-28 9     2020\n",
       "9  2020-09-29 9     2020\n",
       "10 2020-09-30 9     2020"
      ]
     },
     "metadata": {},
     "output_type": "display_data"
    }
   ],
   "source": [
    "# show the table containing only the new 2 date columns\n",
    "sbux_data_dates <- filter(sbux_data[ , c(\"datadate\", \"month\", \"year\")])\n",
    "head(sbux_data_dates, 10)"
   ]
  },
  {
   "cell_type": "markdown",
   "id": "d9248d23",
   "metadata": {},
   "source": [
    "## Question 7"
   ]
  },
  {
   "cell_type": "code",
   "execution_count": 27,
   "id": "d40785ca",
   "metadata": {
    "vscode": {
     "languageId": "r"
    }
   },
   "outputs": [
    {
     "data": {
      "text/html": [
       "151045270"
      ],
      "text/latex": [
       "151045270"
      ],
      "text/markdown": [
       "151045270"
      ],
      "text/plain": [
       "[1] 151045270"
      ]
     },
     "metadata": {},
     "output_type": "display_data"
    }
   ],
   "source": [
    "#7. Calculate the total trade volume (cshtrd) for June 2023\n",
    "trade_volume_2023_06 <- filter(sbux_data, year == 2023 & month == 6)\n",
    "\n",
    "sum(trade_volume_2023_06$cshtrd)"
   ]
  },
  {
   "cell_type": "markdown",
   "id": "1c83b23f",
   "metadata": {},
   "source": [
    "## Question 8"
   ]
  },
  {
   "cell_type": "code",
   "execution_count": 28,
   "id": "6fe3fa6c",
   "metadata": {
    "vscode": {
     "languageId": "r"
    }
   },
   "outputs": [
    {
     "name": "stdout",
     "output_type": "stream",
     "text": [
      "[1] 0.0002580336\n"
     ]
    }
   ],
   "source": [
    "#8. Calculate the mean of daily return over the period\n",
    "mean_daily_return <- mean(sbux_data$daily_return)\n",
    "print(mean_daily_return)"
   ]
  },
  {
   "cell_type": "markdown",
   "id": "10c82831",
   "metadata": {},
   "source": [
    "## Question 9"
   ]
  },
  {
   "cell_type": "code",
   "execution_count": 29,
   "id": "487154fd",
   "metadata": {
    "vscode": {
     "languageId": "r"
    }
   },
   "outputs": [
    {
     "name": "stdout",
     "output_type": "stream",
     "text": [
      "[1] \"2021-07-23\"\n"
     ]
    }
   ],
   "source": [
    "#9. Find the date for maximum high price over the period\n",
    "max_high_price <- max(sbux_data$prchd)\n",
    "\n",
    "date_max_high_price <- filter(sbux_data, prchd == max_high_price)\n",
    "\n",
    "print(date_max_high_price$datadate)"
   ]
  },
  {
   "cell_type": "markdown",
   "id": "be133e1b",
   "metadata": {},
   "source": [
    "## Question 10"
   ]
  },
  {
   "cell_type": "code",
   "execution_count": 30,
   "id": "711e357b",
   "metadata": {
    "vscode": {
     "languageId": "r"
    }
   },
   "outputs": [
    {
     "name": "stdout",
     "output_type": "stream",
     "text": [
      "[1] \"2022-05-04\"\n"
     ]
    }
   ],
   "source": [
    "#10. Find the date for largest daily return over the period\n",
    "max_daily_return <- max(sbux_data$daily_return)\n",
    "date_max_daily_return <- filter(sbux_data, daily_return == max_daily_return)\n",
    "print(date_max_daily_return$datadate)"
   ]
  }
 ],
 "metadata": {
  "kernelspec": {
   "display_name": "R",
   "language": "R",
   "name": "ir"
  },
  "language_info": {
   "codemirror_mode": "r",
   "file_extension": ".r",
   "mimetype": "text/x-r-source",
   "name": "R",
   "pygments_lexer": "r",
   "version": "4.5.1"
  }
 },
 "nbformat": 4,
 "nbformat_minor": 5
}
