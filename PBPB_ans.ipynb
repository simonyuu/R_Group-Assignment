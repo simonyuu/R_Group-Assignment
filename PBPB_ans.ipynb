{
 "cells": [
  {
   "cell_type": "markdown",
   "id": "2bc9886b",
   "metadata": {},
   "source": [
    "---\n",
    "title: \"Group Assignment 1\"\n",
    "author: \"Simon Yu\"\n",
    "date: \"2025-10-01\"\n",
    "format: pdf\n",
    "---\n",
    "\\newpage\n",
    "\\tableofcontents\n",
    "\\listoffigures\n",
    "\\listoftables\n",
    "\\newpage"
   ]
  },
  {
   "cell_type": "code",
   "execution_count": 37,
   "id": "6d96b5f3",
   "metadata": {
    "vscode": {
     "languageId": "r"
    }
   },
   "outputs": [],
   "source": [
    "library(dplyr)"
   ]
  },
  {
   "cell_type": "code",
   "execution_count": 38,
   "id": "c71e4748",
   "metadata": {
    "vscode": {
     "languageId": "r"
    }
   },
   "outputs": [],
   "source": [
    "data <- read.csv(\"compustat_food_bev.csv\")\n",
    "\n",
    "# filter data for Potbelly (PBPB)\n",
    "pbpb_data <- filter(data, tic == \"PBPB\")\n",
    "\n",
    "# convert datadate to Date type\n",
    "pbpb_data$datadate <- as.Date(pbpb_data$datadate, format = \"%d/%m/%Y\")"
   ]
  },
  {
   "cell_type": "markdown",
   "id": "5b1d1009",
   "metadata": {},
   "source": [
    "## Question 1"
   ]
  },
  {
   "cell_type": "code",
   "execution_count": 39,
   "id": "5a0450d4",
   "metadata": {
    "vscode": {
     "languageId": "r"
    }
   },
   "outputs": [],
   "source": [
    "#1. Add a new column named daily_return\n",
    "pbpb_data <- mutate(pbpb_data, daily_return = (prccd - lag(prccd)) / lag(prccd))\n",
    "pbpb_data <- filter(pbpb_data, !is.na(daily_return))"
   ]
  },
  {
   "cell_type": "markdown",
   "id": "ba0f53ed",
   "metadata": {},
   "source": [
    "## Question 2"
   ]
  },
  {
   "cell_type": "code",
   "execution_count": 40,
   "id": "f142ef2b",
   "metadata": {
    "vscode": {
     "languageId": "r"
    }
   },
   "outputs": [],
   "source": [
    "#2. Add a new column named 10-day momentum indicator\n",
    "pbpb_data <- mutate(pbpb_data, momentum_10 = prccd - lag(prccd, 10))\n",
    "pbpb_data <- filter(pbpb_data, !is.na(momentum_10))"
   ]
  },
  {
   "cell_type": "markdown",
   "id": "ccbf546f",
   "metadata": {},
   "source": [
    "## Question 3"
   ]
  },
  {
   "cell_type": "code",
   "execution_count": 41,
   "id": "ddedf9af",
   "metadata": {
    "vscode": {
     "languageId": "r"
    }
   },
   "outputs": [],
   "source": [
    "#3. Add a new column named daily_range\n",
    "pbpb_data <- mutate(pbpb_data, daily_range = prchd - prcld)"
   ]
  },
  {
   "cell_type": "markdown",
   "id": "c5320feb",
   "metadata": {},
   "source": [
    "## Question 4"
   ]
  },
  {
   "cell_type": "code",
   "execution_count": 42,
   "id": "51d42034",
   "metadata": {
    "vscode": {
     "languageId": "r"
    }
   },
   "outputs": [],
   "source": [
    "#4. Add a new column named MFV\n",
    "pbpb_data <- mutate(pbpb_data, \n",
    "            mfv = ((prccd - prcld) - (prchd - prccd)) * cshtrd / (prchd - prcld))"
   ]
  },
  {
   "cell_type": "code",
   "execution_count": 43,
   "id": "a1fc3fbd",
   "metadata": {
    "vscode": {
     "languageId": "r"
    }
   },
   "outputs": [
    {
     "data": {
      "text/html": [
       "<table class=\"dataframe\">\n",
       "<caption>A data.frame: 10 × 5</caption>\n",
       "<thead>\n",
       "\t<tr><th></th><th scope=col>datadate</th><th scope=col>daily_return</th><th scope=col>momentum_10</th><th scope=col>daily_range</th><th scope=col>mfv</th></tr>\n",
       "\t<tr><th></th><th scope=col>&lt;date&gt;</th><th scope=col>&lt;dbl&gt;</th><th scope=col>&lt;dbl&gt;</th><th scope=col>&lt;dbl&gt;</th><th scope=col>&lt;dbl&gt;</th></tr>\n",
       "</thead>\n",
       "<tbody>\n",
       "\t<tr><th scope=row>1</th><td>2020-09-17</td><td>-0.037470726</td><td>-0.30</td><td>0.2200</td><td> -26952.18</td></tr>\n",
       "\t<tr><th scope=row>2</th><td>2020-09-18</td><td> 0.041362530</td><td> 0.11</td><td>0.3147</td><td> 255757.31</td></tr>\n",
       "\t<tr><th scope=row>3</th><td>2020-09-21</td><td>-0.072429907</td><td>-0.09</td><td>0.2100</td><td> -84781.00</td></tr>\n",
       "\t<tr><th scope=row>4</th><td>2020-09-22</td><td> 0.015113350</td><td> 0.12</td><td>0.1200</td><td> 217511.67</td></tr>\n",
       "\t<tr><th scope=row>5</th><td>2020-09-23</td><td>-0.024813896</td><td>-0.02</td><td>0.1750</td><td> -82726.46</td></tr>\n",
       "\t<tr><th scope=row>6</th><td>2020-09-24</td><td>-0.035623410</td><td>-0.34</td><td>0.2400</td><td> -54846.67</td></tr>\n",
       "\t<tr><th scope=row>7</th><td>2020-09-25</td><td>-0.042216359</td><td>-0.30</td><td>0.2100</td><td>-140455.62</td></tr>\n",
       "\t<tr><th scope=row>8</th><td>2020-09-28</td><td> 0.049586777</td><td>-0.16</td><td>0.2650</td><td>  25997.55</td></tr>\n",
       "\t<tr><th scope=row>9</th><td>2020-09-29</td><td>-0.005249344</td><td>-0.47</td><td>0.2250</td><td>  75771.11</td></tr>\n",
       "\t<tr><th scope=row>10</th><td>2020-09-30</td><td> 0.000000000</td><td>-0.48</td><td>0.2000</td><td> -29916.60</td></tr>\n",
       "</tbody>\n",
       "</table>\n"
      ],
      "text/latex": [
       "A data.frame: 10 × 5\n",
       "\\begin{tabular}{r|lllll}\n",
       "  & datadate & daily\\_return & momentum\\_10 & daily\\_range & mfv\\\\\n",
       "  & <date> & <dbl> & <dbl> & <dbl> & <dbl>\\\\\n",
       "\\hline\n",
       "\t1 & 2020-09-17 & -0.037470726 & -0.30 & 0.2200 &  -26952.18\\\\\n",
       "\t2 & 2020-09-18 &  0.041362530 &  0.11 & 0.3147 &  255757.31\\\\\n",
       "\t3 & 2020-09-21 & -0.072429907 & -0.09 & 0.2100 &  -84781.00\\\\\n",
       "\t4 & 2020-09-22 &  0.015113350 &  0.12 & 0.1200 &  217511.67\\\\\n",
       "\t5 & 2020-09-23 & -0.024813896 & -0.02 & 0.1750 &  -82726.46\\\\\n",
       "\t6 & 2020-09-24 & -0.035623410 & -0.34 & 0.2400 &  -54846.67\\\\\n",
       "\t7 & 2020-09-25 & -0.042216359 & -0.30 & 0.2100 & -140455.62\\\\\n",
       "\t8 & 2020-09-28 &  0.049586777 & -0.16 & 0.2650 &   25997.55\\\\\n",
       "\t9 & 2020-09-29 & -0.005249344 & -0.47 & 0.2250 &   75771.11\\\\\n",
       "\t10 & 2020-09-30 &  0.000000000 & -0.48 & 0.2000 &  -29916.60\\\\\n",
       "\\end{tabular}\n"
      ],
      "text/markdown": [
       "\n",
       "A data.frame: 10 × 5\n",
       "\n",
       "| <!--/--> | datadate &lt;date&gt; | daily_return &lt;dbl&gt; | momentum_10 &lt;dbl&gt; | daily_range &lt;dbl&gt; | mfv &lt;dbl&gt; |\n",
       "|---|---|---|---|---|---|\n",
       "| 1 | 2020-09-17 | -0.037470726 | -0.30 | 0.2200 |  -26952.18 |\n",
       "| 2 | 2020-09-18 |  0.041362530 |  0.11 | 0.3147 |  255757.31 |\n",
       "| 3 | 2020-09-21 | -0.072429907 | -0.09 | 0.2100 |  -84781.00 |\n",
       "| 4 | 2020-09-22 |  0.015113350 |  0.12 | 0.1200 |  217511.67 |\n",
       "| 5 | 2020-09-23 | -0.024813896 | -0.02 | 0.1750 |  -82726.46 |\n",
       "| 6 | 2020-09-24 | -0.035623410 | -0.34 | 0.2400 |  -54846.67 |\n",
       "| 7 | 2020-09-25 | -0.042216359 | -0.30 | 0.2100 | -140455.62 |\n",
       "| 8 | 2020-09-28 |  0.049586777 | -0.16 | 0.2650 |   25997.55 |\n",
       "| 9 | 2020-09-29 | -0.005249344 | -0.47 | 0.2250 |   75771.11 |\n",
       "| 10 | 2020-09-30 |  0.000000000 | -0.48 | 0.2000 |  -29916.60 |\n",
       "\n"
      ],
      "text/plain": [
       "   datadate   daily_return momentum_10 daily_range mfv       \n",
       "1  2020-09-17 -0.037470726 -0.30       0.2200       -26952.18\n",
       "2  2020-09-18  0.041362530  0.11       0.3147       255757.31\n",
       "3  2020-09-21 -0.072429907 -0.09       0.2100       -84781.00\n",
       "4  2020-09-22  0.015113350  0.12       0.1200       217511.67\n",
       "5  2020-09-23 -0.024813896 -0.02       0.1750       -82726.46\n",
       "6  2020-09-24 -0.035623410 -0.34       0.2400       -54846.67\n",
       "7  2020-09-25 -0.042216359 -0.30       0.2100      -140455.62\n",
       "8  2020-09-28  0.049586777 -0.16       0.2650        25997.55\n",
       "9  2020-09-29 -0.005249344 -0.47       0.2250        75771.11\n",
       "10 2020-09-30  0.000000000 -0.48       0.2000       -29916.60"
      ]
     },
     "metadata": {},
     "output_type": "display_data"
    }
   ],
   "source": [
    "# show the table containing only the new 4 metrics columns\n",
    "pbpb_data_metrics <- filter(pbpb_data[ , \n",
    "                    c(\"datadate\", \"daily_return\", \"momentum_10\", \"daily_range\", \"mfv\")])\n",
    "\n",
    "head(pbpb_data_metrics, 10)"
   ]
  },
  {
   "cell_type": "markdown",
   "id": "94c3d51f",
   "metadata": {},
   "source": [
    "## Question 5"
   ]
  },
  {
   "cell_type": "code",
   "execution_count": 44,
   "id": "527147f4",
   "metadata": {
    "vscode": {
     "languageId": "r"
    }
   },
   "outputs": [],
   "source": [
    "library(lubridate)"
   ]
  },
  {
   "cell_type": "code",
   "execution_count": 45,
   "id": "9fa58e79",
   "metadata": {
    "vscode": {
     "languageId": "r"
    }
   },
   "outputs": [],
   "source": [
    "#5. Add a new column named month\n",
    "pbpb_data <- mutate(pbpb_data, month = month(datadate))"
   ]
  },
  {
   "cell_type": "markdown",
   "id": "5ac27de3",
   "metadata": {},
   "source": [
    "## Question 6"
   ]
  },
  {
   "cell_type": "code",
   "execution_count": 46,
   "id": "13f28566",
   "metadata": {
    "vscode": {
     "languageId": "r"
    }
   },
   "outputs": [],
   "source": [
    "#6. Add a new column named year\n",
    "pbpb_data <- mutate(pbpb_data, year = year(datadate))"
   ]
  },
  {
   "cell_type": "code",
   "execution_count": 47,
   "id": "4ec5958d",
   "metadata": {
    "vscode": {
     "languageId": "r"
    }
   },
   "outputs": [
    {
     "data": {
      "text/html": [
       "<table class=\"dataframe\">\n",
       "<caption>A data.frame: 10 × 3</caption>\n",
       "<thead>\n",
       "\t<tr><th></th><th scope=col>datadate</th><th scope=col>month</th><th scope=col>year</th></tr>\n",
       "\t<tr><th></th><th scope=col>&lt;date&gt;</th><th scope=col>&lt;dbl&gt;</th><th scope=col>&lt;dbl&gt;</th></tr>\n",
       "</thead>\n",
       "<tbody>\n",
       "\t<tr><th scope=row>1</th><td>2020-09-17</td><td>9</td><td>2020</td></tr>\n",
       "\t<tr><th scope=row>2</th><td>2020-09-18</td><td>9</td><td>2020</td></tr>\n",
       "\t<tr><th scope=row>3</th><td>2020-09-21</td><td>9</td><td>2020</td></tr>\n",
       "\t<tr><th scope=row>4</th><td>2020-09-22</td><td>9</td><td>2020</td></tr>\n",
       "\t<tr><th scope=row>5</th><td>2020-09-23</td><td>9</td><td>2020</td></tr>\n",
       "\t<tr><th scope=row>6</th><td>2020-09-24</td><td>9</td><td>2020</td></tr>\n",
       "\t<tr><th scope=row>7</th><td>2020-09-25</td><td>9</td><td>2020</td></tr>\n",
       "\t<tr><th scope=row>8</th><td>2020-09-28</td><td>9</td><td>2020</td></tr>\n",
       "\t<tr><th scope=row>9</th><td>2020-09-29</td><td>9</td><td>2020</td></tr>\n",
       "\t<tr><th scope=row>10</th><td>2020-09-30</td><td>9</td><td>2020</td></tr>\n",
       "</tbody>\n",
       "</table>\n"
      ],
      "text/latex": [
       "A data.frame: 10 × 3\n",
       "\\begin{tabular}{r|lll}\n",
       "  & datadate & month & year\\\\\n",
       "  & <date> & <dbl> & <dbl>\\\\\n",
       "\\hline\n",
       "\t1 & 2020-09-17 & 9 & 2020\\\\\n",
       "\t2 & 2020-09-18 & 9 & 2020\\\\\n",
       "\t3 & 2020-09-21 & 9 & 2020\\\\\n",
       "\t4 & 2020-09-22 & 9 & 2020\\\\\n",
       "\t5 & 2020-09-23 & 9 & 2020\\\\\n",
       "\t6 & 2020-09-24 & 9 & 2020\\\\\n",
       "\t7 & 2020-09-25 & 9 & 2020\\\\\n",
       "\t8 & 2020-09-28 & 9 & 2020\\\\\n",
       "\t9 & 2020-09-29 & 9 & 2020\\\\\n",
       "\t10 & 2020-09-30 & 9 & 2020\\\\\n",
       "\\end{tabular}\n"
      ],
      "text/markdown": [
       "\n",
       "A data.frame: 10 × 3\n",
       "\n",
       "| <!--/--> | datadate &lt;date&gt; | month &lt;dbl&gt; | year &lt;dbl&gt; |\n",
       "|---|---|---|---|\n",
       "| 1 | 2020-09-17 | 9 | 2020 |\n",
       "| 2 | 2020-09-18 | 9 | 2020 |\n",
       "| 3 | 2020-09-21 | 9 | 2020 |\n",
       "| 4 | 2020-09-22 | 9 | 2020 |\n",
       "| 5 | 2020-09-23 | 9 | 2020 |\n",
       "| 6 | 2020-09-24 | 9 | 2020 |\n",
       "| 7 | 2020-09-25 | 9 | 2020 |\n",
       "| 8 | 2020-09-28 | 9 | 2020 |\n",
       "| 9 | 2020-09-29 | 9 | 2020 |\n",
       "| 10 | 2020-09-30 | 9 | 2020 |\n",
       "\n"
      ],
      "text/plain": [
       "   datadate   month year\n",
       "1  2020-09-17 9     2020\n",
       "2  2020-09-18 9     2020\n",
       "3  2020-09-21 9     2020\n",
       "4  2020-09-22 9     2020\n",
       "5  2020-09-23 9     2020\n",
       "6  2020-09-24 9     2020\n",
       "7  2020-09-25 9     2020\n",
       "8  2020-09-28 9     2020\n",
       "9  2020-09-29 9     2020\n",
       "10 2020-09-30 9     2020"
      ]
     },
     "metadata": {},
     "output_type": "display_data"
    }
   ],
   "source": [
    "# show the table containing only the new 2 date columns\n",
    "pbpb_data_dates <- filter(pbpb_data[ , c(\"datadate\", \"month\", \"year\")])\n",
    "head(pbpb_data_dates, 10)"
   ]
  },
  {
   "cell_type": "markdown",
   "id": "84264d2f",
   "metadata": {},
   "source": [
    "## Question 7"
   ]
  },
  {
   "cell_type": "code",
   "execution_count": 48,
   "id": "bc15f6f6",
   "metadata": {
    "vscode": {
     "languageId": "r"
    }
   },
   "outputs": [
    {
     "data": {
      "text/html": [
       "6780601"
      ],
      "text/latex": [
       "6780601"
      ],
      "text/markdown": [
       "6780601"
      ],
      "text/plain": [
       "[1] 6780601"
      ]
     },
     "metadata": {},
     "output_type": "display_data"
    }
   ],
   "source": [
    "#7. Calculate the total trade volume (cshtrd) for June 2023\n",
    "trade_volume_2023_06 <- filter(pbpb_data, year == 2023 & month == 6)\n",
    "\n",
    "sum(trade_volume_2023_06$cshtrd)"
   ]
  },
  {
   "cell_type": "markdown",
   "id": "0bf9c68a",
   "metadata": {},
   "source": [
    "## Question 8"
   ]
  },
  {
   "cell_type": "code",
   "execution_count": 49,
   "id": "1a63de79",
   "metadata": {
    "vscode": {
     "languageId": "r"
    }
   },
   "outputs": [
    {
     "name": "stdout",
     "output_type": "stream",
     "text": [
      "[1] 0.001311608\n"
     ]
    }
   ],
   "source": [
    "#8. Calculate the mean of daily return over the period\n",
    "mean_daily_return <- mean(pbpb_data$daily_return)\n",
    "print(mean_daily_return)"
   ]
  },
  {
   "cell_type": "markdown",
   "id": "b14c2c63",
   "metadata": {},
   "source": [
    "## Question 9"
   ]
  },
  {
   "cell_type": "code",
   "execution_count": 50,
   "id": "8e162889",
   "metadata": {
    "vscode": {
     "languageId": "r"
    }
   },
   "outputs": [
    {
     "name": "stdout",
     "output_type": "stream",
     "text": [
      "[1] \"2023-04-26\"\n"
     ]
    }
   ],
   "source": [
    "#9. Find the date for maximum high price over the period\n",
    "max_high_price <- max(pbpb_data$prchd)\n",
    "\n",
    "date_max_high_price <- filter(pbpb_data, prchd == max_high_price)\n",
    "\n",
    "print(date_max_high_price$datadate)"
   ]
  },
  {
   "cell_type": "markdown",
   "id": "f0430085",
   "metadata": {},
   "source": [
    "## Question 10"
   ]
  },
  {
   "cell_type": "code",
   "execution_count": 51,
   "id": "d507da1b",
   "metadata": {
    "vscode": {
     "languageId": "r"
    }
   },
   "outputs": [
    {
     "name": "stdout",
     "output_type": "stream",
     "text": [
      "[1] \"2021-03-15\"\n"
     ]
    }
   ],
   "source": [
    "#10. Find the date for largest daily return over the period\n",
    "max_daily_return <- max(pbpb_data$daily_return)\n",
    "date_max_daily_return <- filter(pbpb_data, daily_return == max_daily_return)\n",
    "print(date_max_daily_return$datadate)"
   ]
  }
 ],
 "metadata": {
  "kernelspec": {
   "display_name": "R",
   "language": "R",
   "name": "ir"
  },
  "language_info": {
   "codemirror_mode": "r",
   "file_extension": ".r",
   "mimetype": "text/x-r-source",
   "name": "R",
   "pygments_lexer": "r",
   "version": "4.5.1"
  }
 },
 "nbformat": 4,
 "nbformat_minor": 5
}
