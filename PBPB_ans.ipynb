{
 "cells": [
  {
   "cell_type": "markdown",
   "id": "2bc9886b",
   "metadata": {},
   "source": [
    "---\n",
    "title: \"Group Assignment 1\"\n",
    "author: \"Simon Yu\"\n",
    "date: \"2025-10-01\"\n",
    "format: pdf\n",
    "---\n",
    "\\newpage\n",
    "\\tableofcontents\n",
    "\\listoffigures\n",
    "\\listoftables\n",
    "\\newpage"
   ]
  },
  {
   "cell_type": "code",
   "execution_count": 16,
   "id": "6d96b5f3",
   "metadata": {
    "vscode": {
     "languageId": "r"
    }
   },
   "outputs": [],
   "source": [
    "library(dplyr)"
   ]
  },
  {
   "cell_type": "code",
   "execution_count": 17,
   "id": "c71e4748",
   "metadata": {
    "vscode": {
     "languageId": "r"
    }
   },
   "outputs": [],
   "source": [
    "data <- read.csv(\"compustat_food_bev.csv\")\n",
    "\n",
    "# filter data for Potbelly (PBPB)\n",
    "pbpb_data <- filter(data, tic == \"PBPB\")\n",
    "\n",
    "# convert datadate to Date type\n",
    "pbpb_data$datadate <- as.Date(pbpb_data$datadate, format = \"%d/%m/%Y\")"
   ]
  },
  {
   "cell_type": "markdown",
   "id": "5b1d1009",
   "metadata": {},
   "source": [
    "## Question 1"
   ]
  },
  {
   "cell_type": "code",
   "execution_count": 18,
   "id": "5a0450d4",
   "metadata": {
    "vscode": {
     "languageId": "r"
    }
   },
   "outputs": [],
   "source": [
    "#1. Add a new column named daily_return\n",
    "#   to store daily return value\n",
    "\n",
    "#2. Drop the rows whose daily return values are NA\n",
    "pbpb_data <- mutate(pbpb_data, daily_return = (prccd - lag(prccd)) / lag(prccd))\n",
    "pbpb_data <- filter(pbpb_data, !is.na(daily_return))"
   ]
  },
  {
   "cell_type": "markdown",
   "id": "ba0f53ed",
   "metadata": {},
   "source": [
    "## Question 2"
   ]
  },
  {
   "cell_type": "code",
   "execution_count": 19,
   "id": "f142ef2b",
   "metadata": {
    "vscode": {
     "languageId": "r"
    }
   },
   "outputs": [],
   "source": [
    "#1. Add a new column named overnight_return\n",
    "#   to store overnight return value\n",
    "\n",
    "#2. Drop the rows whose overnight_return values are NA\n",
    "pbpb_data <- mutate(pbpb_data, overnight_return = (prcod - lag(prccd)) / lag(prccd))\n",
    "pbpb_data <- filter(pbpb_data, !is.na(overnight_return))"
   ]
  },
  {
   "cell_type": "markdown",
   "id": "ccbf546f",
   "metadata": {},
   "source": [
    "## Question 3"
   ]
  },
  {
   "cell_type": "code",
   "execution_count": 20,
   "id": "ddedf9af",
   "metadata": {
    "vscode": {
     "languageId": "r"
    }
   },
   "outputs": [],
   "source": [
    "# Add a new column named close_open_change\n",
    "# to store daily close-open change value\n",
    "\n",
    "pbpb_data <- mutate(pbpb_data, close_open_change = prccd - prcod)"
   ]
  },
  {
   "cell_type": "markdown",
   "id": "c5320feb",
   "metadata": {},
   "source": [
    "## Question 4"
   ]
  },
  {
   "cell_type": "code",
   "execution_count": 21,
   "id": "51d42034",
   "metadata": {
    "vscode": {
     "languageId": "r"
    }
   },
   "outputs": [],
   "source": [
    "# Add a new column named MFV\n",
    "pbpb_data <- mutate(pbpb_data, \n",
    "            mfv = ((prccd - prcld) - (prchd - prccd)) * cshtrd / (prchd - prcld))"
   ]
  },
  {
   "cell_type": "code",
   "execution_count": 22,
   "id": "a1fc3fbd",
   "metadata": {
    "vscode": {
     "languageId": "r"
    }
   },
   "outputs": [
    {
     "data": {
      "text/html": [
       "<table class=\"dataframe\">\n",
       "<caption>A data.frame: 6 × 5</caption>\n",
       "<thead>\n",
       "\t<tr><th></th><th scope=col>datadate</th><th scope=col>daily_return</th><th scope=col>overnight_return</th><th scope=col>close_open_change</th><th scope=col>mfv</th></tr>\n",
       "\t<tr><th></th><th scope=col>&lt;date&gt;</th><th scope=col>&lt;dbl&gt;</th><th scope=col>&lt;dbl&gt;</th><th scope=col>&lt;dbl&gt;</th><th scope=col>&lt;dbl&gt;</th></tr>\n",
       "</thead>\n",
       "<tbody>\n",
       "\t<tr><th scope=row>1</th><td>2020-09-03</td><td>-0.05442177</td><td> 0.004535147</td><td>-0.26</td><td>-264658.17</td></tr>\n",
       "\t<tr><th scope=row>2</th><td>2020-09-04</td><td>-0.02637890</td><td> 0.014388489</td><td>-0.17</td><td>-163452.05</td></tr>\n",
       "\t<tr><th scope=row>3</th><td>2020-09-08</td><td>-0.03694581</td><td>-0.002463054</td><td>-0.14</td><td>-284337.00</td></tr>\n",
       "\t<tr><th scope=row>4</th><td>2020-09-09</td><td> 0.01023018</td><td> 0.002557545</td><td> 0.03</td><td>  11618.32</td></tr>\n",
       "\t<tr><th scope=row>5</th><td>2020-09-10</td><td> 0.04556962</td><td>-0.002531646</td><td> 0.19</td><td> 101495.33</td></tr>\n",
       "\t<tr><th scope=row>6</th><td>2020-09-11</td><td>-0.04842615</td><td> 0.007263923</td><td>-0.23</td><td>-116163.57</td></tr>\n",
       "</tbody>\n",
       "</table>\n"
      ],
      "text/latex": [
       "A data.frame: 6 × 5\n",
       "\\begin{tabular}{r|lllll}\n",
       "  & datadate & daily\\_return & overnight\\_return & close\\_open\\_change & mfv\\\\\n",
       "  & <date> & <dbl> & <dbl> & <dbl> & <dbl>\\\\\n",
       "\\hline\n",
       "\t1 & 2020-09-03 & -0.05442177 &  0.004535147 & -0.26 & -264658.17\\\\\n",
       "\t2 & 2020-09-04 & -0.02637890 &  0.014388489 & -0.17 & -163452.05\\\\\n",
       "\t3 & 2020-09-08 & -0.03694581 & -0.002463054 & -0.14 & -284337.00\\\\\n",
       "\t4 & 2020-09-09 &  0.01023018 &  0.002557545 &  0.03 &   11618.32\\\\\n",
       "\t5 & 2020-09-10 &  0.04556962 & -0.002531646 &  0.19 &  101495.33\\\\\n",
       "\t6 & 2020-09-11 & -0.04842615 &  0.007263923 & -0.23 & -116163.57\\\\\n",
       "\\end{tabular}\n"
      ],
      "text/markdown": [
       "\n",
       "A data.frame: 6 × 5\n",
       "\n",
       "| <!--/--> | datadate &lt;date&gt; | daily_return &lt;dbl&gt; | overnight_return &lt;dbl&gt; | close_open_change &lt;dbl&gt; | mfv &lt;dbl&gt; |\n",
       "|---|---|---|---|---|---|\n",
       "| 1 | 2020-09-03 | -0.05442177 |  0.004535147 | -0.26 | -264658.17 |\n",
       "| 2 | 2020-09-04 | -0.02637890 |  0.014388489 | -0.17 | -163452.05 |\n",
       "| 3 | 2020-09-08 | -0.03694581 | -0.002463054 | -0.14 | -284337.00 |\n",
       "| 4 | 2020-09-09 |  0.01023018 |  0.002557545 |  0.03 |   11618.32 |\n",
       "| 5 | 2020-09-10 |  0.04556962 | -0.002531646 |  0.19 |  101495.33 |\n",
       "| 6 | 2020-09-11 | -0.04842615 |  0.007263923 | -0.23 | -116163.57 |\n",
       "\n"
      ],
      "text/plain": [
       "  datadate   daily_return overnight_return close_open_change mfv       \n",
       "1 2020-09-03 -0.05442177   0.004535147     -0.26             -264658.17\n",
       "2 2020-09-04 -0.02637890   0.014388489     -0.17             -163452.05\n",
       "3 2020-09-08 -0.03694581  -0.002463054     -0.14             -284337.00\n",
       "4 2020-09-09  0.01023018   0.002557545      0.03               11618.32\n",
       "5 2020-09-10  0.04556962  -0.002531646      0.19              101495.33\n",
       "6 2020-09-11 -0.04842615   0.007263923     -0.23             -116163.57"
      ]
     },
     "metadata": {},
     "output_type": "display_data"
    }
   ],
   "source": [
    "# show the table containing only the new 4 metrics columns\n",
    "pbpb_data_metrics <- filter(pbpb_data[ ,\n",
    "            c(\"datadate\", \"daily_return\", \"overnight_return\", \"close_open_change\", \"mfv\")])\n",
    "\n",
    "head(pbpb_data_metrics)"
   ]
  },
  {
   "cell_type": "markdown",
   "id": "94c3d51f",
   "metadata": {},
   "source": [
    "## Question 5"
   ]
  },
  {
   "cell_type": "code",
   "execution_count": 23,
   "id": "527147f4",
   "metadata": {
    "vscode": {
     "languageId": "r"
    }
   },
   "outputs": [],
   "source": [
    "library(lubridate)"
   ]
  },
  {
   "cell_type": "code",
   "execution_count": 24,
   "id": "9fa58e79",
   "metadata": {
    "vscode": {
     "languageId": "r"
    }
   },
   "outputs": [],
   "source": [
    "# Add a new column named month\n",
    "pbpb_data <- mutate(pbpb_data, month = month(datadate))"
   ]
  },
  {
   "cell_type": "markdown",
   "id": "5ac27de3",
   "metadata": {},
   "source": [
    "## Question 6"
   ]
  },
  {
   "cell_type": "code",
   "execution_count": 25,
   "id": "13f28566",
   "metadata": {
    "vscode": {
     "languageId": "r"
    }
   },
   "outputs": [],
   "source": [
    "# Add a new column named year\n",
    "pbpb_data <- mutate(pbpb_data, year = year(datadate))"
   ]
  },
  {
   "cell_type": "code",
   "execution_count": 26,
   "id": "4ec5958d",
   "metadata": {
    "vscode": {
     "languageId": "r"
    }
   },
   "outputs": [
    {
     "data": {
      "text/html": [
       "<table class=\"dataframe\">\n",
       "<caption>A data.frame: 10 × 3</caption>\n",
       "<thead>\n",
       "\t<tr><th></th><th scope=col>datadate</th><th scope=col>month</th><th scope=col>year</th></tr>\n",
       "\t<tr><th></th><th scope=col>&lt;date&gt;</th><th scope=col>&lt;dbl&gt;</th><th scope=col>&lt;dbl&gt;</th></tr>\n",
       "</thead>\n",
       "<tbody>\n",
       "\t<tr><th scope=row>1</th><td>2020-09-03</td><td>9</td><td>2020</td></tr>\n",
       "\t<tr><th scope=row>2</th><td>2020-09-04</td><td>9</td><td>2020</td></tr>\n",
       "\t<tr><th scope=row>3</th><td>2020-09-08</td><td>9</td><td>2020</td></tr>\n",
       "\t<tr><th scope=row>4</th><td>2020-09-09</td><td>9</td><td>2020</td></tr>\n",
       "\t<tr><th scope=row>5</th><td>2020-09-10</td><td>9</td><td>2020</td></tr>\n",
       "\t<tr><th scope=row>6</th><td>2020-09-11</td><td>9</td><td>2020</td></tr>\n",
       "\t<tr><th scope=row>7</th><td>2020-09-14</td><td>9</td><td>2020</td></tr>\n",
       "\t<tr><th scope=row>8</th><td>2020-09-15</td><td>9</td><td>2020</td></tr>\n",
       "\t<tr><th scope=row>9</th><td>2020-09-16</td><td>9</td><td>2020</td></tr>\n",
       "\t<tr><th scope=row>10</th><td>2020-09-17</td><td>9</td><td>2020</td></tr>\n",
       "</tbody>\n",
       "</table>\n"
      ],
      "text/latex": [
       "A data.frame: 10 × 3\n",
       "\\begin{tabular}{r|lll}\n",
       "  & datadate & month & year\\\\\n",
       "  & <date> & <dbl> & <dbl>\\\\\n",
       "\\hline\n",
       "\t1 & 2020-09-03 & 9 & 2020\\\\\n",
       "\t2 & 2020-09-04 & 9 & 2020\\\\\n",
       "\t3 & 2020-09-08 & 9 & 2020\\\\\n",
       "\t4 & 2020-09-09 & 9 & 2020\\\\\n",
       "\t5 & 2020-09-10 & 9 & 2020\\\\\n",
       "\t6 & 2020-09-11 & 9 & 2020\\\\\n",
       "\t7 & 2020-09-14 & 9 & 2020\\\\\n",
       "\t8 & 2020-09-15 & 9 & 2020\\\\\n",
       "\t9 & 2020-09-16 & 9 & 2020\\\\\n",
       "\t10 & 2020-09-17 & 9 & 2020\\\\\n",
       "\\end{tabular}\n"
      ],
      "text/markdown": [
       "\n",
       "A data.frame: 10 × 3\n",
       "\n",
       "| <!--/--> | datadate &lt;date&gt; | month &lt;dbl&gt; | year &lt;dbl&gt; |\n",
       "|---|---|---|---|\n",
       "| 1 | 2020-09-03 | 9 | 2020 |\n",
       "| 2 | 2020-09-04 | 9 | 2020 |\n",
       "| 3 | 2020-09-08 | 9 | 2020 |\n",
       "| 4 | 2020-09-09 | 9 | 2020 |\n",
       "| 5 | 2020-09-10 | 9 | 2020 |\n",
       "| 6 | 2020-09-11 | 9 | 2020 |\n",
       "| 7 | 2020-09-14 | 9 | 2020 |\n",
       "| 8 | 2020-09-15 | 9 | 2020 |\n",
       "| 9 | 2020-09-16 | 9 | 2020 |\n",
       "| 10 | 2020-09-17 | 9 | 2020 |\n",
       "\n"
      ],
      "text/plain": [
       "   datadate   month year\n",
       "1  2020-09-03 9     2020\n",
       "2  2020-09-04 9     2020\n",
       "3  2020-09-08 9     2020\n",
       "4  2020-09-09 9     2020\n",
       "5  2020-09-10 9     2020\n",
       "6  2020-09-11 9     2020\n",
       "7  2020-09-14 9     2020\n",
       "8  2020-09-15 9     2020\n",
       "9  2020-09-16 9     2020\n",
       "10 2020-09-17 9     2020"
      ]
     },
     "metadata": {},
     "output_type": "display_data"
    }
   ],
   "source": [
    "# show the table containing only the new 2 date columns\n",
    "pbpb_data_dates <- filter(pbpb_data[ , c(\"datadate\", \"month\", \"year\")])\n",
    "head(pbpb_data_dates, 10)"
   ]
  },
  {
   "cell_type": "markdown",
   "id": "84264d2f",
   "metadata": {},
   "source": [
    "## Question 7"
   ]
  },
  {
   "cell_type": "code",
   "execution_count": 27,
   "id": "bc15f6f6",
   "metadata": {
    "vscode": {
     "languageId": "r"
    }
   },
   "outputs": [
    {
     "data": {
      "text/html": [
       "6780601"
      ],
      "text/latex": [
       "6780601"
      ],
      "text/markdown": [
       "6780601"
      ],
      "text/plain": [
       "[1] 6780601"
      ]
     },
     "metadata": {},
     "output_type": "display_data"
    }
   ],
   "source": [
    "# Calculate the total trade volume (cshtrd) for June 2023\n",
    "trade_volume_2023_06 <- filter(pbpb_data, year == 2023 & month == 6)\n",
    "\n",
    "sum(trade_volume_2023_06$cshtrd)"
   ]
  },
  {
   "cell_type": "markdown",
   "id": "0bf9c68a",
   "metadata": {},
   "source": [
    "## Question 8"
   ]
  },
  {
   "cell_type": "code",
   "execution_count": 28,
   "id": "1a63de79",
   "metadata": {
    "vscode": {
     "languageId": "r"
    }
   },
   "outputs": [
    {
     "name": "stdout",
     "output_type": "stream",
     "text": [
      "[1] 0.001263381\n"
     ]
    }
   ],
   "source": [
    "# Calculate the mean of daily return over the period\n",
    "mean_daily_return <- mean(pbpb_data$daily_return)\n",
    "print(mean_daily_return)"
   ]
  },
  {
   "cell_type": "markdown",
   "id": "b14c2c63",
   "metadata": {},
   "source": [
    "## Question 9"
   ]
  },
  {
   "cell_type": "code",
   "execution_count": 29,
   "id": "8e162889",
   "metadata": {
    "vscode": {
     "languageId": "r"
    }
   },
   "outputs": [
    {
     "name": "stdout",
     "output_type": "stream",
     "text": [
      "[1] \"2023-04-26\"\n"
     ]
    }
   ],
   "source": [
    "# Find the date for maximum high price over the period\n",
    "max_high_price <- max(pbpb_data$prchd)\n",
    "\n",
    "date_max_high_price <- filter(pbpb_data, prchd == max_high_price)\n",
    "\n",
    "print(date_max_high_price$datadate)"
   ]
  },
  {
   "cell_type": "markdown",
   "id": "f0430085",
   "metadata": {},
   "source": [
    "## Question 10"
   ]
  },
  {
   "cell_type": "code",
   "execution_count": 30,
   "id": "d507da1b",
   "metadata": {
    "vscode": {
     "languageId": "r"
    }
   },
   "outputs": [
    {
     "name": "stdout",
     "output_type": "stream",
     "text": [
      "[1] \"2021-03-15\"\n"
     ]
    }
   ],
   "source": [
    "# Find the date for largest daily return over the period\n",
    "max_daily_return <- max(pbpb_data$daily_return)\n",
    "date_max_daily_return <- filter(pbpb_data, daily_return == max_daily_return)\n",
    "print(date_max_daily_return$datadate)"
   ]
  }
 ],
 "metadata": {
  "kernelspec": {
   "display_name": "R",
   "language": "R",
   "name": "ir"
  },
  "language_info": {
   "codemirror_mode": "r",
   "file_extension": ".r",
   "mimetype": "text/x-r-source",
   "name": "R",
   "pygments_lexer": "r",
   "version": "4.5.1"
  }
 },
 "nbformat": 4,
 "nbformat_minor": 5
}
