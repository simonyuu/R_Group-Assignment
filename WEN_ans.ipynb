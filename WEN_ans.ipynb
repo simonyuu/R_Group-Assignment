{
 "cells": [
  {
   "cell_type": "markdown",
   "id": "88509dd3",
   "metadata": {},
   "source": [
    "---\n",
    "title: \"Group Assignment 1\"\n",
    "author: \"Simon Yu\"\n",
    "date: \"2025-10-01\"\n",
    "format: pdf\n",
    "---\n",
    "\\newpage\n",
    "\\tableofcontents\n",
    "\\listoffigures\n",
    "\\listoftables\n",
    "\\newpage"
   ]
  },
  {
   "cell_type": "code",
   "execution_count": 128,
   "id": "6a54a1b8",
   "metadata": {
    "vscode": {
     "languageId": "r"
    }
   },
   "outputs": [],
   "source": [
    "library(dplyr)"
   ]
  },
  {
   "cell_type": "code",
   "execution_count": 129,
   "id": "6807ed36",
   "metadata": {
    "vscode": {
     "languageId": "r"
    }
   },
   "outputs": [],
   "source": [
    "data <- read.csv(\"compustat_food_bev.csv\")\n",
    "\n",
    "# filter data for Wendy's (WEN)\n",
    "wen_data <- filter(data, tic == \"WEN\")\n",
    "\n",
    "# convert datadate to Date type\n",
    "wen_data$datadate <- as.Date(wen_data$datadate, format = \"%d/%m/%Y\")"
   ]
  },
  {
   "cell_type": "markdown",
   "id": "44a01009",
   "metadata": {},
   "source": [
    "## Question 1"
   ]
  },
  {
   "cell_type": "code",
   "execution_count": 130,
   "id": "59ed5a6e",
   "metadata": {
    "vscode": {
     "languageId": "r"
    }
   },
   "outputs": [],
   "source": [
    "#1. Add a new column named daily_return\n",
    "wen_data <- mutate(wen_data, daily_return = (prccd - lag(prccd)) / lag(prccd))\n",
    "wen_data <- filter(wen_data, !is.na(daily_return))"
   ]
  },
  {
   "cell_type": "markdown",
   "id": "36c6b1c8",
   "metadata": {},
   "source": [
    "## Question 2"
   ]
  },
  {
   "cell_type": "code",
   "execution_count": 131,
   "id": "1a61e324",
   "metadata": {
    "vscode": {
     "languageId": "r"
    }
   },
   "outputs": [],
   "source": [
    "#2. Add a new column named 10-day momentum indicator\n",
    "wen_data <- mutate(wen_data, momentum_10 = prccd - lag(prccd, 10))\n",
    "wen_data <- filter(wen_data, !is.na(momentum_10))"
   ]
  },
  {
   "cell_type": "markdown",
   "id": "d3b9dab0",
   "metadata": {},
   "source": [
    "## Question 3"
   ]
  },
  {
   "cell_type": "code",
   "execution_count": 132,
   "id": "329b4269",
   "metadata": {
    "vscode": {
     "languageId": "r"
    }
   },
   "outputs": [],
   "source": [
    "#3. Add a new column named daily_range\n",
    "wen_data <- mutate(wen_data, daily_range = prchd - prcld)"
   ]
  },
  {
   "cell_type": "markdown",
   "id": "8caa093e",
   "metadata": {},
   "source": [
    "## Question 4"
   ]
  },
  {
   "cell_type": "code",
   "execution_count": 133,
   "id": "1411b1b6",
   "metadata": {
    "vscode": {
     "languageId": "r"
    }
   },
   "outputs": [],
   "source": [
    "#4. Add a new column named MFV\n",
    "wen_data <- mutate(wen_data, \n",
    "            mfv = ((prccd - prcld) - (prchd - prccd)) * cshtrd / (prchd - prcld))"
   ]
  },
  {
   "cell_type": "code",
   "execution_count": 134,
   "id": "e0ddfd99",
   "metadata": {
    "vscode": {
     "languageId": "r"
    }
   },
   "outputs": [
    {
     "data": {
      "text/html": [
       "<table class=\"dataframe\">\n",
       "<caption>A data.frame: 10 × 5</caption>\n",
       "<thead>\n",
       "\t<tr><th></th><th scope=col>datadate</th><th scope=col>daily_return</th><th scope=col>momentum_10</th><th scope=col>daily_range</th><th scope=col>mfv</th></tr>\n",
       "\t<tr><th></th><th scope=col>&lt;date&gt;</th><th scope=col>&lt;dbl&gt;</th><th scope=col>&lt;dbl&gt;</th><th scope=col>&lt;dbl&gt;</th><th scope=col>&lt;dbl&gt;</th></tr>\n",
       "</thead>\n",
       "<tbody>\n",
       "\t<tr><th scope=row>1</th><td>2020-09-17</td><td> 0.006631928</td><td>-0.720</td><td>0.625</td><td> 1034602.5</td></tr>\n",
       "\t<tr><th scope=row>2</th><td>2020-09-18</td><td>-0.013882353</td><td>-0.995</td><td>0.660</td><td>-3132449.7</td></tr>\n",
       "\t<tr><th scope=row>3</th><td>2020-09-21</td><td>-0.014077786</td><td>-0.920</td><td>0.530</td><td> 1294344.7</td></tr>\n",
       "\t<tr><th scope=row>4</th><td>2020-09-22</td><td> 0.019845111</td><td>-0.780</td><td>0.580</td><td> 3259250.1</td></tr>\n",
       "\t<tr><th scope=row>5</th><td>2020-09-23</td><td>-0.002847651</td><td>-1.485</td><td>0.640</td><td> -824321.2</td></tr>\n",
       "\t<tr><th scope=row>6</th><td>2020-09-24</td><td> 0.009043313</td><td>-0.650</td><td>0.790</td><td>  320093.6</td></tr>\n",
       "\t<tr><th scope=row>7</th><td>2020-09-25</td><td> 0.006603774</td><td>-0.130</td><td>0.430</td><td>  913796.6</td></tr>\n",
       "\t<tr><th scope=row>8</th><td>2020-09-28</td><td> 0.037956888</td><td> 0.120</td><td>0.695</td><td> 2315489.9</td></tr>\n",
       "\t<tr><th scope=row>9</th><td>2020-09-29</td><td> 0.009029345</td><td> 0.490</td><td>0.700</td><td> 2363936.3</td></tr>\n",
       "\t<tr><th scope=row>10</th><td>2020-09-30</td><td>-0.002460850</td><td> 1.185</td><td>0.350</td><td>-1546140.5</td></tr>\n",
       "</tbody>\n",
       "</table>\n"
      ],
      "text/latex": [
       "A data.frame: 10 × 5\n",
       "\\begin{tabular}{r|lllll}\n",
       "  & datadate & daily\\_return & momentum\\_10 & daily\\_range & mfv\\\\\n",
       "  & <date> & <dbl> & <dbl> & <dbl> & <dbl>\\\\\n",
       "\\hline\n",
       "\t1 & 2020-09-17 &  0.006631928 & -0.720 & 0.625 &  1034602.5\\\\\n",
       "\t2 & 2020-09-18 & -0.013882353 & -0.995 & 0.660 & -3132449.7\\\\\n",
       "\t3 & 2020-09-21 & -0.014077786 & -0.920 & 0.530 &  1294344.7\\\\\n",
       "\t4 & 2020-09-22 &  0.019845111 & -0.780 & 0.580 &  3259250.1\\\\\n",
       "\t5 & 2020-09-23 & -0.002847651 & -1.485 & 0.640 &  -824321.2\\\\\n",
       "\t6 & 2020-09-24 &  0.009043313 & -0.650 & 0.790 &   320093.6\\\\\n",
       "\t7 & 2020-09-25 &  0.006603774 & -0.130 & 0.430 &   913796.6\\\\\n",
       "\t8 & 2020-09-28 &  0.037956888 &  0.120 & 0.695 &  2315489.9\\\\\n",
       "\t9 & 2020-09-29 &  0.009029345 &  0.490 & 0.700 &  2363936.3\\\\\n",
       "\t10 & 2020-09-30 & -0.002460850 &  1.185 & 0.350 & -1546140.5\\\\\n",
       "\\end{tabular}\n"
      ],
      "text/markdown": [
       "\n",
       "A data.frame: 10 × 5\n",
       "\n",
       "| <!--/--> | datadate &lt;date&gt; | daily_return &lt;dbl&gt; | momentum_10 &lt;dbl&gt; | daily_range &lt;dbl&gt; | mfv &lt;dbl&gt; |\n",
       "|---|---|---|---|---|---|\n",
       "| 1 | 2020-09-17 |  0.006631928 | -0.720 | 0.625 |  1034602.5 |\n",
       "| 2 | 2020-09-18 | -0.013882353 | -0.995 | 0.660 | -3132449.7 |\n",
       "| 3 | 2020-09-21 | -0.014077786 | -0.920 | 0.530 |  1294344.7 |\n",
       "| 4 | 2020-09-22 |  0.019845111 | -0.780 | 0.580 |  3259250.1 |\n",
       "| 5 | 2020-09-23 | -0.002847651 | -1.485 | 0.640 |  -824321.2 |\n",
       "| 6 | 2020-09-24 |  0.009043313 | -0.650 | 0.790 |   320093.6 |\n",
       "| 7 | 2020-09-25 |  0.006603774 | -0.130 | 0.430 |   913796.6 |\n",
       "| 8 | 2020-09-28 |  0.037956888 |  0.120 | 0.695 |  2315489.9 |\n",
       "| 9 | 2020-09-29 |  0.009029345 |  0.490 | 0.700 |  2363936.3 |\n",
       "| 10 | 2020-09-30 | -0.002460850 |  1.185 | 0.350 | -1546140.5 |\n",
       "\n"
      ],
      "text/plain": [
       "   datadate   daily_return momentum_10 daily_range mfv       \n",
       "1  2020-09-17  0.006631928 -0.720      0.625        1034602.5\n",
       "2  2020-09-18 -0.013882353 -0.995      0.660       -3132449.7\n",
       "3  2020-09-21 -0.014077786 -0.920      0.530        1294344.7\n",
       "4  2020-09-22  0.019845111 -0.780      0.580        3259250.1\n",
       "5  2020-09-23 -0.002847651 -1.485      0.640        -824321.2\n",
       "6  2020-09-24  0.009043313 -0.650      0.790         320093.6\n",
       "7  2020-09-25  0.006603774 -0.130      0.430         913796.6\n",
       "8  2020-09-28  0.037956888  0.120      0.695        2315489.9\n",
       "9  2020-09-29  0.009029345  0.490      0.700        2363936.3\n",
       "10 2020-09-30 -0.002460850  1.185      0.350       -1546140.5"
      ]
     },
     "metadata": {},
     "output_type": "display_data"
    }
   ],
   "source": [
    "# show the table containing only the new 4 metrics columns\n",
    "wen_data_metrics <- filter(wen_data[ , \n",
    "                    c(\"datadate\", \"daily_return\", \"momentum_10\", \"daily_range\", \"mfv\")])\n",
    "\n",
    "head(wen_data_metrics, 10)"
   ]
  },
  {
   "cell_type": "markdown",
   "id": "0e399873",
   "metadata": {},
   "source": [
    "## Question 5"
   ]
  },
  {
   "cell_type": "code",
   "execution_count": 135,
   "id": "671632d1",
   "metadata": {
    "vscode": {
     "languageId": "r"
    }
   },
   "outputs": [],
   "source": [
    "library(lubridate)"
   ]
  },
  {
   "cell_type": "code",
   "execution_count": 136,
   "id": "e0834a64",
   "metadata": {
    "vscode": {
     "languageId": "r"
    }
   },
   "outputs": [],
   "source": [
    "#5. Add a new column named month\n",
    "wen_data <- mutate(wen_data, month = month(datadate))"
   ]
  },
  {
   "cell_type": "markdown",
   "id": "c331a021",
   "metadata": {},
   "source": [
    "## Question 6"
   ]
  },
  {
   "cell_type": "code",
   "execution_count": 137,
   "id": "5287a2e2",
   "metadata": {
    "vscode": {
     "languageId": "r"
    }
   },
   "outputs": [],
   "source": [
    "#6. Add a new column named year\n",
    "wen_data <- mutate(wen_data, year = year(datadate))"
   ]
  },
  {
   "cell_type": "code",
   "execution_count": 138,
   "id": "a597215c",
   "metadata": {
    "vscode": {
     "languageId": "r"
    }
   },
   "outputs": [
    {
     "data": {
      "text/html": [
       "<table class=\"dataframe\">\n",
       "<caption>A data.frame: 10 × 3</caption>\n",
       "<thead>\n",
       "\t<tr><th></th><th scope=col>datadate</th><th scope=col>month</th><th scope=col>year</th></tr>\n",
       "\t<tr><th></th><th scope=col>&lt;date&gt;</th><th scope=col>&lt;dbl&gt;</th><th scope=col>&lt;dbl&gt;</th></tr>\n",
       "</thead>\n",
       "<tbody>\n",
       "\t<tr><th scope=row>1</th><td>2020-09-17</td><td>9</td><td>2020</td></tr>\n",
       "\t<tr><th scope=row>2</th><td>2020-09-18</td><td>9</td><td>2020</td></tr>\n",
       "\t<tr><th scope=row>3</th><td>2020-09-21</td><td>9</td><td>2020</td></tr>\n",
       "\t<tr><th scope=row>4</th><td>2020-09-22</td><td>9</td><td>2020</td></tr>\n",
       "\t<tr><th scope=row>5</th><td>2020-09-23</td><td>9</td><td>2020</td></tr>\n",
       "\t<tr><th scope=row>6</th><td>2020-09-24</td><td>9</td><td>2020</td></tr>\n",
       "\t<tr><th scope=row>7</th><td>2020-09-25</td><td>9</td><td>2020</td></tr>\n",
       "\t<tr><th scope=row>8</th><td>2020-09-28</td><td>9</td><td>2020</td></tr>\n",
       "\t<tr><th scope=row>9</th><td>2020-09-29</td><td>9</td><td>2020</td></tr>\n",
       "\t<tr><th scope=row>10</th><td>2020-09-30</td><td>9</td><td>2020</td></tr>\n",
       "</tbody>\n",
       "</table>\n"
      ],
      "text/latex": [
       "A data.frame: 10 × 3\n",
       "\\begin{tabular}{r|lll}\n",
       "  & datadate & month & year\\\\\n",
       "  & <date> & <dbl> & <dbl>\\\\\n",
       "\\hline\n",
       "\t1 & 2020-09-17 & 9 & 2020\\\\\n",
       "\t2 & 2020-09-18 & 9 & 2020\\\\\n",
       "\t3 & 2020-09-21 & 9 & 2020\\\\\n",
       "\t4 & 2020-09-22 & 9 & 2020\\\\\n",
       "\t5 & 2020-09-23 & 9 & 2020\\\\\n",
       "\t6 & 2020-09-24 & 9 & 2020\\\\\n",
       "\t7 & 2020-09-25 & 9 & 2020\\\\\n",
       "\t8 & 2020-09-28 & 9 & 2020\\\\\n",
       "\t9 & 2020-09-29 & 9 & 2020\\\\\n",
       "\t10 & 2020-09-30 & 9 & 2020\\\\\n",
       "\\end{tabular}\n"
      ],
      "text/markdown": [
       "\n",
       "A data.frame: 10 × 3\n",
       "\n",
       "| <!--/--> | datadate &lt;date&gt; | month &lt;dbl&gt; | year &lt;dbl&gt; |\n",
       "|---|---|---|---|\n",
       "| 1 | 2020-09-17 | 9 | 2020 |\n",
       "| 2 | 2020-09-18 | 9 | 2020 |\n",
       "| 3 | 2020-09-21 | 9 | 2020 |\n",
       "| 4 | 2020-09-22 | 9 | 2020 |\n",
       "| 5 | 2020-09-23 | 9 | 2020 |\n",
       "| 6 | 2020-09-24 | 9 | 2020 |\n",
       "| 7 | 2020-09-25 | 9 | 2020 |\n",
       "| 8 | 2020-09-28 | 9 | 2020 |\n",
       "| 9 | 2020-09-29 | 9 | 2020 |\n",
       "| 10 | 2020-09-30 | 9 | 2020 |\n",
       "\n"
      ],
      "text/plain": [
       "   datadate   month year\n",
       "1  2020-09-17 9     2020\n",
       "2  2020-09-18 9     2020\n",
       "3  2020-09-21 9     2020\n",
       "4  2020-09-22 9     2020\n",
       "5  2020-09-23 9     2020\n",
       "6  2020-09-24 9     2020\n",
       "7  2020-09-25 9     2020\n",
       "8  2020-09-28 9     2020\n",
       "9  2020-09-29 9     2020\n",
       "10 2020-09-30 9     2020"
      ]
     },
     "metadata": {},
     "output_type": "display_data"
    }
   ],
   "source": [
    "# show the table containing only the new 2 date columns\n",
    "wen_data_dates <- filter(wen_data[ , c(\"datadate\", \"month\", \"year\")])\n",
    "head(wen_data_dates, 10)"
   ]
  },
  {
   "cell_type": "markdown",
   "id": "2274e2a7",
   "metadata": {},
   "source": [
    "## Question 7"
   ]
  },
  {
   "cell_type": "code",
   "execution_count": 139,
   "id": "ae0a7001",
   "metadata": {
    "vscode": {
     "languageId": "r"
    }
   },
   "outputs": [
    {
     "data": {
      "text/html": [
       "54557454"
      ],
      "text/latex": [
       "54557454"
      ],
      "text/markdown": [
       "54557454"
      ],
      "text/plain": [
       "[1] 54557454"
      ]
     },
     "metadata": {},
     "output_type": "display_data"
    }
   ],
   "source": [
    "#7. Calculate the total trade volume (cshtrd) for June 2023\n",
    "trade_volume_2023_06 <- filter(wen_data, year == 2023 & month == 6)\n",
    "\n",
    "sum(trade_volume_2023_06$cshtrd)"
   ]
  },
  {
   "cell_type": "markdown",
   "id": "7d62ba02",
   "metadata": {},
   "source": [
    "## Question 8"
   ]
  },
  {
   "cell_type": "code",
   "execution_count": 140,
   "id": "199563c7",
   "metadata": {
    "vscode": {
     "languageId": "r"
    }
   },
   "outputs": [
    {
     "name": "stdout",
     "output_type": "stream",
     "text": [
      "[1] 0.0001034355\n"
     ]
    }
   ],
   "source": [
    "#8. Calculate the mean of daily return over the period\n",
    "mean_daily_return <- mean(wen_data$daily_return)\n",
    "print(mean_daily_return)"
   ]
  },
  {
   "cell_type": "markdown",
   "id": "a8ec9c9f",
   "metadata": {},
   "source": [
    "## Question 9"
   ]
  },
  {
   "cell_type": "code",
   "execution_count": 141,
   "id": "0adf4364",
   "metadata": {
    "vscode": {
     "languageId": "r"
    }
   },
   "outputs": [
    {
     "name": "stdout",
     "output_type": "stream",
     "text": [
      "[1] \"2021-06-08\"\n"
     ]
    }
   ],
   "source": [
    "#9. Find the date for maximum high price over the period\n",
    "max_high_price <- max(wen_data$prchd)\n",
    "\n",
    "date_max_high_price <- filter(wen_data, prchd == max_high_price)\n",
    "\n",
    "print(date_max_high_price$datadate)"
   ]
  },
  {
   "cell_type": "markdown",
   "id": "44a70ff4",
   "metadata": {},
   "source": [
    "## Question 10"
   ]
  },
  {
   "cell_type": "code",
   "execution_count": 142,
   "id": "c51ed716",
   "metadata": {
    "vscode": {
     "languageId": "r"
    }
   },
   "outputs": [
    {
     "name": "stdout",
     "output_type": "stream",
     "text": [
      "[1] \"2021-06-08\"\n"
     ]
    }
   ],
   "source": [
    "#10. Find the date for largest daily return over the period\n",
    "max_daily_return <- max(wen_data$daily_return)\n",
    "date_max_daily_return <- filter(wen_data, daily_return == max_daily_return)\n",
    "print(date_max_daily_return$datadate)"
   ]
  }
 ],
 "metadata": {
  "kernelspec": {
   "display_name": "R",
   "language": "R",
   "name": "ir"
  },
  "language_info": {
   "codemirror_mode": "r",
   "file_extension": ".r",
   "mimetype": "text/x-r-source",
   "name": "R",
   "pygments_lexer": "r",
   "version": "4.5.1"
  }
 },
 "nbformat": 4,
 "nbformat_minor": 5
}
