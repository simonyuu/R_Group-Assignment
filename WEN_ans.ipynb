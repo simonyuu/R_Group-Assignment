{
 "cells": [
  {
   "cell_type": "markdown",
   "id": "88509dd3",
   "metadata": {},
   "source": [
    "---\n",
    "title: \"Group Assignment 1\"\n",
    "author: \"Simon Yu\"\n",
    "date: \"2025-10-01\"\n",
    "format: pdf\n",
    "---\n",
    "\\newpage\n",
    "\\tableofcontents\n",
    "\\listoffigures\n",
    "\\listoftables\n",
    "\\newpage"
   ]
  },
  {
   "cell_type": "code",
   "execution_count": 16,
   "id": "6a54a1b8",
   "metadata": {
    "vscode": {
     "languageId": "r"
    }
   },
   "outputs": [],
   "source": [
    "library(dplyr)"
   ]
  },
  {
   "cell_type": "code",
   "execution_count": 17,
   "id": "6807ed36",
   "metadata": {
    "vscode": {
     "languageId": "r"
    }
   },
   "outputs": [],
   "source": [
    "data <- read.csv(\"compustat_food_bev.csv\")\n",
    "\n",
    "# filter data for Wendy's (WEN)\n",
    "wen_data <- filter(data, tic == \"WEN\")\n",
    "\n",
    "# convert datadate to Date type\n",
    "wen_data$datadate <- as.Date(wen_data$datadate, format = \"%d/%m/%Y\")"
   ]
  },
  {
   "cell_type": "markdown",
   "id": "44a01009",
   "metadata": {},
   "source": [
    "## Question 1"
   ]
  },
  {
   "cell_type": "code",
   "execution_count": 18,
   "id": "59ed5a6e",
   "metadata": {
    "vscode": {
     "languageId": "r"
    }
   },
   "outputs": [],
   "source": [
    "#1. Add a new column named daily_return\n",
    "#   to store daily return value\n",
    "\n",
    "#2. Drop the rows whose daily return values are NA\n",
    "wen_data <- mutate(wen_data, daily_return = (prccd - lag(prccd)) / lag(prccd))\n",
    "wen_data <- filter(wen_data, !is.na(daily_return))"
   ]
  },
  {
   "cell_type": "markdown",
   "id": "36c6b1c8",
   "metadata": {},
   "source": [
    "## Question 2"
   ]
  },
  {
   "cell_type": "code",
   "execution_count": 19,
   "id": "1a61e324",
   "metadata": {
    "vscode": {
     "languageId": "r"
    }
   },
   "outputs": [],
   "source": [
    "#1. Add a new column named overnight_return\n",
    "#   to store overnight return value\n",
    "\n",
    "#2. Drop the rows whose overnight_return values are NA\n",
    "wen_data <- mutate(wen_data, overnight_return = (prcod - lag(prccd)) / lag(prccd))\n",
    "wen_data <- filter(wen_data, !is.na(overnight_return))"
   ]
  },
  {
   "cell_type": "markdown",
   "id": "d3b9dab0",
   "metadata": {},
   "source": [
    "## Question 3"
   ]
  },
  {
   "cell_type": "code",
   "execution_count": 20,
   "id": "329b4269",
   "metadata": {
    "vscode": {
     "languageId": "r"
    }
   },
   "outputs": [],
   "source": [
    "#1. Add a new column named volume_change\n",
    "#   to store daily volume change value\n",
    "\n",
    "#2. Drop the rows whose volume_change values are NA\n",
    "\n",
    "wen_data <- mutate(wen_data, volume_change = (cshtrd - lag(cshtrd)))\n",
    "wen_data <- filter(wen_data, !is.na(volume_change))"
   ]
  },
  {
   "cell_type": "markdown",
   "id": "8caa093e",
   "metadata": {},
   "source": [
    "## Question 4"
   ]
  },
  {
   "cell_type": "code",
   "execution_count": 21,
   "id": "1411b1b6",
   "metadata": {
    "vscode": {
     "languageId": "r"
    }
   },
   "outputs": [],
   "source": [
    "# Add a new column named MFV\n",
    "wen_data <- mutate(wen_data, \n",
    "            mfv = ((prccd - prcld) - (prchd - prccd)) * cshtrd / (prchd - prcld))"
   ]
  },
  {
   "cell_type": "code",
   "execution_count": 22,
   "id": "e0ddfd99",
   "metadata": {
    "vscode": {
     "languageId": "r"
    }
   },
   "outputs": [
    {
     "data": {
      "text/html": [
       "<table class=\"dataframe\">\n",
       "<caption>A data.frame: 6 × 5</caption>\n",
       "<thead>\n",
       "\t<tr><th></th><th scope=col>datadate</th><th scope=col>daily_return</th><th scope=col>overnight_return</th><th scope=col>volume_change</th><th scope=col>mfv</th></tr>\n",
       "\t<tr><th></th><th scope=col>&lt;date&gt;</th><th scope=col>&lt;dbl&gt;</th><th scope=col>&lt;dbl&gt;</th><th scope=col>&lt;int&gt;</th><th scope=col>&lt;dbl&gt;</th></tr>\n",
       "</thead>\n",
       "<tbody>\n",
       "\t<tr><th scope=row>1</th><td>2020-09-04</td><td>-0.01685649</td><td> 0.011389522</td><td>-929061</td><td>-2148667</td></tr>\n",
       "\t<tr><th scope=row>2</th><td>2020-09-08</td><td> 0.01251158</td><td>-0.006950880</td><td>  87249</td><td> 1761526</td></tr>\n",
       "\t<tr><th scope=row>3</th><td>2020-09-09</td><td> 0.02951945</td><td> 0.006864989</td><td>-591443</td><td> 2005638</td></tr>\n",
       "\t<tr><th scope=row>4</th><td>2020-09-10</td><td>-0.02867304</td><td> 0.002444988</td><td> -59870</td><td>-2741393</td></tr>\n",
       "\t<tr><th scope=row>5</th><td>2020-09-11</td><td>-0.01739130</td><td> 0.007322654</td><td>-462401</td><td> -664416</td></tr>\n",
       "\t<tr><th scope=row>6</th><td>2020-09-14</td><td> 0.02608291</td><td> 0.007452259</td><td>1315156</td><td> 2556174</td></tr>\n",
       "</tbody>\n",
       "</table>\n"
      ],
      "text/latex": [
       "A data.frame: 6 × 5\n",
       "\\begin{tabular}{r|lllll}\n",
       "  & datadate & daily\\_return & overnight\\_return & volume\\_change & mfv\\\\\n",
       "  & <date> & <dbl> & <dbl> & <int> & <dbl>\\\\\n",
       "\\hline\n",
       "\t1 & 2020-09-04 & -0.01685649 &  0.011389522 & -929061 & -2148667\\\\\n",
       "\t2 & 2020-09-08 &  0.01251158 & -0.006950880 &   87249 &  1761526\\\\\n",
       "\t3 & 2020-09-09 &  0.02951945 &  0.006864989 & -591443 &  2005638\\\\\n",
       "\t4 & 2020-09-10 & -0.02867304 &  0.002444988 &  -59870 & -2741393\\\\\n",
       "\t5 & 2020-09-11 & -0.01739130 &  0.007322654 & -462401 &  -664416\\\\\n",
       "\t6 & 2020-09-14 &  0.02608291 &  0.007452259 & 1315156 &  2556174\\\\\n",
       "\\end{tabular}\n"
      ],
      "text/markdown": [
       "\n",
       "A data.frame: 6 × 5\n",
       "\n",
       "| <!--/--> | datadate &lt;date&gt; | daily_return &lt;dbl&gt; | overnight_return &lt;dbl&gt; | volume_change &lt;int&gt; | mfv &lt;dbl&gt; |\n",
       "|---|---|---|---|---|---|\n",
       "| 1 | 2020-09-04 | -0.01685649 |  0.011389522 | -929061 | -2148667 |\n",
       "| 2 | 2020-09-08 |  0.01251158 | -0.006950880 |   87249 |  1761526 |\n",
       "| 3 | 2020-09-09 |  0.02951945 |  0.006864989 | -591443 |  2005638 |\n",
       "| 4 | 2020-09-10 | -0.02867304 |  0.002444988 |  -59870 | -2741393 |\n",
       "| 5 | 2020-09-11 | -0.01739130 |  0.007322654 | -462401 |  -664416 |\n",
       "| 6 | 2020-09-14 |  0.02608291 |  0.007452259 | 1315156 |  2556174 |\n",
       "\n"
      ],
      "text/plain": [
       "  datadate   daily_return overnight_return volume_change mfv     \n",
       "1 2020-09-04 -0.01685649   0.011389522     -929061       -2148667\n",
       "2 2020-09-08  0.01251158  -0.006950880       87249        1761526\n",
       "3 2020-09-09  0.02951945   0.006864989     -591443        2005638\n",
       "4 2020-09-10 -0.02867304   0.002444988      -59870       -2741393\n",
       "5 2020-09-11 -0.01739130   0.007322654     -462401        -664416\n",
       "6 2020-09-14  0.02608291   0.007452259     1315156        2556174"
      ]
     },
     "metadata": {},
     "output_type": "display_data"
    }
   ],
   "source": [
    "# show the table containing only the new 4 metrics columns\n",
    "wen_data_metrics <- filter(wen_data[ ,\n",
    "            c(\"datadate\", \"daily_return\", \"overnight_return\", \"volume_change\", \"mfv\")])\n",
    "\n",
    "head(wen_data_metrics)"
   ]
  },
  {
   "cell_type": "markdown",
   "id": "0e399873",
   "metadata": {},
   "source": [
    "## Question 5"
   ]
  },
  {
   "cell_type": "code",
   "execution_count": 23,
   "id": "671632d1",
   "metadata": {
    "vscode": {
     "languageId": "r"
    }
   },
   "outputs": [],
   "source": [
    "library(lubridate)"
   ]
  },
  {
   "cell_type": "code",
   "execution_count": 24,
   "id": "e0834a64",
   "metadata": {
    "vscode": {
     "languageId": "r"
    }
   },
   "outputs": [],
   "source": [
    "# Add a new column named month\n",
    "wen_data <- mutate(wen_data, month = month(datadate))"
   ]
  },
  {
   "cell_type": "markdown",
   "id": "c331a021",
   "metadata": {},
   "source": [
    "## Question 6"
   ]
  },
  {
   "cell_type": "code",
   "execution_count": 25,
   "id": "5287a2e2",
   "metadata": {
    "vscode": {
     "languageId": "r"
    }
   },
   "outputs": [],
   "source": [
    "# Add a new column named year\n",
    "wen_data <- mutate(wen_data, year = year(datadate))"
   ]
  },
  {
   "cell_type": "code",
   "execution_count": 26,
   "id": "a597215c",
   "metadata": {
    "vscode": {
     "languageId": "r"
    }
   },
   "outputs": [
    {
     "data": {
      "text/html": [
       "<table class=\"dataframe\">\n",
       "<caption>A data.frame: 10 × 3</caption>\n",
       "<thead>\n",
       "\t<tr><th></th><th scope=col>datadate</th><th scope=col>month</th><th scope=col>year</th></tr>\n",
       "\t<tr><th></th><th scope=col>&lt;date&gt;</th><th scope=col>&lt;dbl&gt;</th><th scope=col>&lt;dbl&gt;</th></tr>\n",
       "</thead>\n",
       "<tbody>\n",
       "\t<tr><th scope=row>1</th><td>2020-09-04</td><td>9</td><td>2020</td></tr>\n",
       "\t<tr><th scope=row>2</th><td>2020-09-08</td><td>9</td><td>2020</td></tr>\n",
       "\t<tr><th scope=row>3</th><td>2020-09-09</td><td>9</td><td>2020</td></tr>\n",
       "\t<tr><th scope=row>4</th><td>2020-09-10</td><td>9</td><td>2020</td></tr>\n",
       "\t<tr><th scope=row>5</th><td>2020-09-11</td><td>9</td><td>2020</td></tr>\n",
       "\t<tr><th scope=row>6</th><td>2020-09-14</td><td>9</td><td>2020</td></tr>\n",
       "\t<tr><th scope=row>7</th><td>2020-09-15</td><td>9</td><td>2020</td></tr>\n",
       "\t<tr><th scope=row>8</th><td>2020-09-16</td><td>9</td><td>2020</td></tr>\n",
       "\t<tr><th scope=row>9</th><td>2020-09-17</td><td>9</td><td>2020</td></tr>\n",
       "\t<tr><th scope=row>10</th><td>2020-09-18</td><td>9</td><td>2020</td></tr>\n",
       "</tbody>\n",
       "</table>\n"
      ],
      "text/latex": [
       "A data.frame: 10 × 3\n",
       "\\begin{tabular}{r|lll}\n",
       "  & datadate & month & year\\\\\n",
       "  & <date> & <dbl> & <dbl>\\\\\n",
       "\\hline\n",
       "\t1 & 2020-09-04 & 9 & 2020\\\\\n",
       "\t2 & 2020-09-08 & 9 & 2020\\\\\n",
       "\t3 & 2020-09-09 & 9 & 2020\\\\\n",
       "\t4 & 2020-09-10 & 9 & 2020\\\\\n",
       "\t5 & 2020-09-11 & 9 & 2020\\\\\n",
       "\t6 & 2020-09-14 & 9 & 2020\\\\\n",
       "\t7 & 2020-09-15 & 9 & 2020\\\\\n",
       "\t8 & 2020-09-16 & 9 & 2020\\\\\n",
       "\t9 & 2020-09-17 & 9 & 2020\\\\\n",
       "\t10 & 2020-09-18 & 9 & 2020\\\\\n",
       "\\end{tabular}\n"
      ],
      "text/markdown": [
       "\n",
       "A data.frame: 10 × 3\n",
       "\n",
       "| <!--/--> | datadate &lt;date&gt; | month &lt;dbl&gt; | year &lt;dbl&gt; |\n",
       "|---|---|---|---|\n",
       "| 1 | 2020-09-04 | 9 | 2020 |\n",
       "| 2 | 2020-09-08 | 9 | 2020 |\n",
       "| 3 | 2020-09-09 | 9 | 2020 |\n",
       "| 4 | 2020-09-10 | 9 | 2020 |\n",
       "| 5 | 2020-09-11 | 9 | 2020 |\n",
       "| 6 | 2020-09-14 | 9 | 2020 |\n",
       "| 7 | 2020-09-15 | 9 | 2020 |\n",
       "| 8 | 2020-09-16 | 9 | 2020 |\n",
       "| 9 | 2020-09-17 | 9 | 2020 |\n",
       "| 10 | 2020-09-18 | 9 | 2020 |\n",
       "\n"
      ],
      "text/plain": [
       "   datadate   month year\n",
       "1  2020-09-04 9     2020\n",
       "2  2020-09-08 9     2020\n",
       "3  2020-09-09 9     2020\n",
       "4  2020-09-10 9     2020\n",
       "5  2020-09-11 9     2020\n",
       "6  2020-09-14 9     2020\n",
       "7  2020-09-15 9     2020\n",
       "8  2020-09-16 9     2020\n",
       "9  2020-09-17 9     2020\n",
       "10 2020-09-18 9     2020"
      ]
     },
     "metadata": {},
     "output_type": "display_data"
    }
   ],
   "source": [
    "# show the table containing only the new 2 date columns\n",
    "wen_data_dates <- filter(wen_data[ , c(\"datadate\", \"month\", \"year\")])\n",
    "head(wen_data_dates, 10)"
   ]
  },
  {
   "cell_type": "markdown",
   "id": "2274e2a7",
   "metadata": {},
   "source": [
    "## Question 7"
   ]
  },
  {
   "cell_type": "code",
   "execution_count": 27,
   "id": "ae0a7001",
   "metadata": {
    "vscode": {
     "languageId": "r"
    }
   },
   "outputs": [
    {
     "data": {
      "text/html": [
       "54557454"
      ],
      "text/latex": [
       "54557454"
      ],
      "text/markdown": [
       "54557454"
      ],
      "text/plain": [
       "[1] 54557454"
      ]
     },
     "metadata": {},
     "output_type": "display_data"
    }
   ],
   "source": [
    "# Calculate the total trade volume (cshtrd) for June 2023\n",
    "trade_volume_2023_06 <- filter(wen_data, year == 2023 & month == 6)\n",
    "\n",
    "sum(trade_volume_2023_06$cshtrd)"
   ]
  },
  {
   "cell_type": "markdown",
   "id": "7d62ba02",
   "metadata": {},
   "source": [
    "## Question 8"
   ]
  },
  {
   "cell_type": "code",
   "execution_count": 28,
   "id": "199563c7",
   "metadata": {
    "vscode": {
     "languageId": "r"
    }
   },
   "outputs": [
    {
     "name": "stdout",
     "output_type": "stream",
     "text": [
      "[1] 5.375167e-05\n"
     ]
    }
   ],
   "source": [
    "# Calculate the mean of daily return over the period\n",
    "mean_daily_return <- mean(wen_data$daily_return)\n",
    "print(mean_daily_return)"
   ]
  },
  {
   "cell_type": "markdown",
   "id": "a8ec9c9f",
   "metadata": {},
   "source": [
    "## Question 9"
   ]
  },
  {
   "cell_type": "code",
   "execution_count": 29,
   "id": "0adf4364",
   "metadata": {
    "vscode": {
     "languageId": "r"
    }
   },
   "outputs": [
    {
     "name": "stdout",
     "output_type": "stream",
     "text": [
      "[1] \"2021-06-08\"\n"
     ]
    }
   ],
   "source": [
    "# Find the date for maximum high price over the period\n",
    "max_high_price <- max(wen_data$prchd)\n",
    "\n",
    "date_max_high_price <- filter(wen_data, prchd == max_high_price)\n",
    "\n",
    "print(date_max_high_price$datadate)"
   ]
  },
  {
   "cell_type": "markdown",
   "id": "44a70ff4",
   "metadata": {},
   "source": [
    "## Question 10"
   ]
  },
  {
   "cell_type": "code",
   "execution_count": 30,
   "id": "c51ed716",
   "metadata": {
    "vscode": {
     "languageId": "r"
    }
   },
   "outputs": [
    {
     "name": "stdout",
     "output_type": "stream",
     "text": [
      "[1] \"2021-06-08\"\n"
     ]
    }
   ],
   "source": [
    "# Find the date for largest daily return over the period\n",
    "max_daily_return <- max(wen_data$daily_return)\n",
    "date_max_daily_return <- filter(wen_data, daily_return == max_daily_return)\n",
    "print(date_max_daily_return$datadate)"
   ]
  }
 ],
 "metadata": {
  "kernelspec": {
   "display_name": "R",
   "language": "R",
   "name": "ir"
  },
  "language_info": {
   "codemirror_mode": "r",
   "file_extension": ".r",
   "mimetype": "text/x-r-source",
   "name": "R",
   "pygments_lexer": "r",
   "version": "4.5.1"
  }
 },
 "nbformat": 4,
 "nbformat_minor": 5
}
