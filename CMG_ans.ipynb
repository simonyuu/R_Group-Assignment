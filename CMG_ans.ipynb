{
 "cells": [
  {
   "cell_type": "markdown",
   "id": "db1e3096",
   "metadata": {},
   "source": [
    "---\n",
    "title: \"Group Assignment 1\"\n",
    "author: \"Simon Yu\"\n",
    "date: \"2025-10-01\"\n",
    "format: pdf\n",
    "---\n",
    "\\newpage\n",
    "\\tableofcontents\n",
    "\\listoffigures\n",
    "\\listoftables\n",
    "\\newpage"
   ]
  },
  {
   "cell_type": "code",
   "execution_count": 24,
   "id": "98628af6",
   "metadata": {
    "vscode": {
     "languageId": "r"
    }
   },
   "outputs": [],
   "source": [
    "library(dplyr)"
   ]
  },
  {
   "cell_type": "code",
   "execution_count": 25,
   "id": "b42a193c",
   "metadata": {
    "vscode": {
     "languageId": "r"
    }
   },
   "outputs": [],
   "source": [
    "data <- read.csv(\"compustat_food_bev.csv\")\n",
    "\n",
    "# filter data for Chipotle (SMG)\n",
    "cmg_data <- filter(data, tic == \"CMG\")\n",
    "\n",
    "# convert datadate to Date type\n",
    "cmg_data$datadate <- as.Date(cmg_data$datadate, format = \"%d/%m/%Y\")"
   ]
  },
  {
   "cell_type": "markdown",
   "id": "04e43d2b",
   "metadata": {},
   "source": [
    "## Question 1"
   ]
  },
  {
   "cell_type": "code",
   "execution_count": 26,
   "id": "66484d97",
   "metadata": {
    "vscode": {
     "languageId": "r"
    }
   },
   "outputs": [],
   "source": [
    "#1. Add a new column named daily_return\n",
    "cmg_data <- mutate(cmg_data, daily_return = (prccd - lag(prccd)) / lag(prccd))\n",
    "cmg_data <- filter(cmg_data, !is.na(daily_return))"
   ]
  },
  {
   "cell_type": "markdown",
   "id": "825a6e68",
   "metadata": {},
   "source": [
    "## Question 2"
   ]
  },
  {
   "cell_type": "code",
   "execution_count": 27,
   "id": "5b76c91d",
   "metadata": {
    "vscode": {
     "languageId": "r"
    }
   },
   "outputs": [],
   "source": [
    "#2. Add a new column named 10-day momentum indicator\n",
    "cmg_data <- mutate(cmg_data, momentum_10 = prccd - lag(prccd, 10))\n",
    "cmg_data <- filter(cmg_data, !is.na(momentum_10))"
   ]
  },
  {
   "cell_type": "markdown",
   "id": "88e7f99b",
   "metadata": {},
   "source": [
    "## Question 3"
   ]
  },
  {
   "cell_type": "code",
   "execution_count": 28,
   "id": "7989dc40",
   "metadata": {
    "vscode": {
     "languageId": "r"
    }
   },
   "outputs": [],
   "source": [
    "#3. Add a new column named daily_range\n",
    "cmg_data <- mutate(cmg_data, daily_range = prchd - prcld)"
   ]
  },
  {
   "cell_type": "markdown",
   "id": "c4eef668",
   "metadata": {},
   "source": [
    "## Question 4"
   ]
  },
  {
   "cell_type": "code",
   "execution_count": 29,
   "id": "f33be9fe",
   "metadata": {
    "vscode": {
     "languageId": "r"
    }
   },
   "outputs": [],
   "source": [
    "#4. Add a new column named MFV\n",
    "cmg_data <- mutate(cmg_data, \n",
    "            mfv = ((prccd - prcld) - (prchd - prccd)) * cshtrd / (prchd - prcld))"
   ]
  },
  {
   "cell_type": "code",
   "execution_count": 30,
   "id": "b81b6d23",
   "metadata": {
    "vscode": {
     "languageId": "r"
    }
   },
   "outputs": [
    {
     "data": {
      "text/html": [
       "<table class=\"dataframe\">\n",
       "<caption>A data.frame: 10 × 5</caption>\n",
       "<thead>\n",
       "\t<tr><th></th><th scope=col>datadate</th><th scope=col>daily_return</th><th scope=col>momentum_10</th><th scope=col>daily_range</th><th scope=col>mfv</th></tr>\n",
       "\t<tr><th></th><th scope=col>&lt;date&gt;</th><th scope=col>&lt;dbl&gt;</th><th scope=col>&lt;dbl&gt;</th><th scope=col>&lt;dbl&gt;</th><th scope=col>&lt;dbl&gt;</th></tr>\n",
       "</thead>\n",
       "<tbody>\n",
       "\t<tr><th scope=row>1</th><td>2020-09-17</td><td>-0.031993807</td><td>-153.66</td><td>42.3600</td><td>-103314.12</td></tr>\n",
       "\t<tr><th scope=row>2</th><td>2020-09-18</td><td>-0.008071032</td><td>-113.25</td><td>46.4200</td><td>-292595.13</td></tr>\n",
       "\t<tr><th scope=row>3</th><td>2020-09-21</td><td>-0.007371573</td><td>-107.21</td><td>27.8099</td><td> 280004.81</td></tr>\n",
       "\t<tr><th scope=row>4</th><td>2020-09-22</td><td> 0.023256970</td><td> -65.17</td><td>27.2700</td><td> 123610.04</td></tr>\n",
       "\t<tr><th scope=row>5</th><td>2020-09-23</td><td> 0.011185990</td><td> -72.64</td><td>50.4911</td><td>-363145.20</td></tr>\n",
       "\t<tr><th scope=row>6</th><td>2020-09-24</td><td>-0.015307716</td><td> -79.21</td><td>30.4063</td><td> -22833.32</td></tr>\n",
       "\t<tr><th scope=row>7</th><td>2020-09-25</td><td> 0.012381231</td><td> -52.97</td><td>36.0900</td><td> 117739.00</td></tr>\n",
       "\t<tr><th scope=row>8</th><td>2020-09-28</td><td> 0.015146645</td><td>  -3.84</td><td>31.4400</td><td>  51534.89</td></tr>\n",
       "\t<tr><th scope=row>9</th><td>2020-09-29</td><td>-0.001377291</td><td> -15.75</td><td>21.5700</td><td>  94370.66</td></tr>\n",
       "\t<tr><th scope=row>10</th><td>2020-09-30</td><td>-0.014188220</td><td> -22.16</td><td>37.6300</td><td>-144418.84</td></tr>\n",
       "</tbody>\n",
       "</table>\n"
      ],
      "text/latex": [
       "A data.frame: 10 × 5\n",
       "\\begin{tabular}{r|lllll}\n",
       "  & datadate & daily\\_return & momentum\\_10 & daily\\_range & mfv\\\\\n",
       "  & <date> & <dbl> & <dbl> & <dbl> & <dbl>\\\\\n",
       "\\hline\n",
       "\t1 & 2020-09-17 & -0.031993807 & -153.66 & 42.3600 & -103314.12\\\\\n",
       "\t2 & 2020-09-18 & -0.008071032 & -113.25 & 46.4200 & -292595.13\\\\\n",
       "\t3 & 2020-09-21 & -0.007371573 & -107.21 & 27.8099 &  280004.81\\\\\n",
       "\t4 & 2020-09-22 &  0.023256970 &  -65.17 & 27.2700 &  123610.04\\\\\n",
       "\t5 & 2020-09-23 &  0.011185990 &  -72.64 & 50.4911 & -363145.20\\\\\n",
       "\t6 & 2020-09-24 & -0.015307716 &  -79.21 & 30.4063 &  -22833.32\\\\\n",
       "\t7 & 2020-09-25 &  0.012381231 &  -52.97 & 36.0900 &  117739.00\\\\\n",
       "\t8 & 2020-09-28 &  0.015146645 &   -3.84 & 31.4400 &   51534.89\\\\\n",
       "\t9 & 2020-09-29 & -0.001377291 &  -15.75 & 21.5700 &   94370.66\\\\\n",
       "\t10 & 2020-09-30 & -0.014188220 &  -22.16 & 37.6300 & -144418.84\\\\\n",
       "\\end{tabular}\n"
      ],
      "text/markdown": [
       "\n",
       "A data.frame: 10 × 5\n",
       "\n",
       "| <!--/--> | datadate &lt;date&gt; | daily_return &lt;dbl&gt; | momentum_10 &lt;dbl&gt; | daily_range &lt;dbl&gt; | mfv &lt;dbl&gt; |\n",
       "|---|---|---|---|---|---|\n",
       "| 1 | 2020-09-17 | -0.031993807 | -153.66 | 42.3600 | -103314.12 |\n",
       "| 2 | 2020-09-18 | -0.008071032 | -113.25 | 46.4200 | -292595.13 |\n",
       "| 3 | 2020-09-21 | -0.007371573 | -107.21 | 27.8099 |  280004.81 |\n",
       "| 4 | 2020-09-22 |  0.023256970 |  -65.17 | 27.2700 |  123610.04 |\n",
       "| 5 | 2020-09-23 |  0.011185990 |  -72.64 | 50.4911 | -363145.20 |\n",
       "| 6 | 2020-09-24 | -0.015307716 |  -79.21 | 30.4063 |  -22833.32 |\n",
       "| 7 | 2020-09-25 |  0.012381231 |  -52.97 | 36.0900 |  117739.00 |\n",
       "| 8 | 2020-09-28 |  0.015146645 |   -3.84 | 31.4400 |   51534.89 |\n",
       "| 9 | 2020-09-29 | -0.001377291 |  -15.75 | 21.5700 |   94370.66 |\n",
       "| 10 | 2020-09-30 | -0.014188220 |  -22.16 | 37.6300 | -144418.84 |\n",
       "\n"
      ],
      "text/plain": [
       "   datadate   daily_return momentum_10 daily_range mfv       \n",
       "1  2020-09-17 -0.031993807 -153.66     42.3600     -103314.12\n",
       "2  2020-09-18 -0.008071032 -113.25     46.4200     -292595.13\n",
       "3  2020-09-21 -0.007371573 -107.21     27.8099      280004.81\n",
       "4  2020-09-22  0.023256970  -65.17     27.2700      123610.04\n",
       "5  2020-09-23  0.011185990  -72.64     50.4911     -363145.20\n",
       "6  2020-09-24 -0.015307716  -79.21     30.4063      -22833.32\n",
       "7  2020-09-25  0.012381231  -52.97     36.0900      117739.00\n",
       "8  2020-09-28  0.015146645   -3.84     31.4400       51534.89\n",
       "9  2020-09-29 -0.001377291  -15.75     21.5700       94370.66\n",
       "10 2020-09-30 -0.014188220  -22.16     37.6300     -144418.84"
      ]
     },
     "metadata": {},
     "output_type": "display_data"
    }
   ],
   "source": [
    "# show the table containing only the new 4 metrics columns\n",
    "cmg_data_metrics <- filter(cmg_data[ , \n",
    "                    c(\"datadate\", \"daily_return\", \"momentum_10\", \"daily_range\", \"mfv\")])\n",
    "\n",
    "head(cmg_data_metrics, 10)"
   ]
  },
  {
   "cell_type": "markdown",
   "id": "2128f222",
   "metadata": {},
   "source": [
    "## Question 5"
   ]
  },
  {
   "cell_type": "code",
   "execution_count": 31,
   "id": "ffc5faaa",
   "metadata": {
    "vscode": {
     "languageId": "r"
    }
   },
   "outputs": [],
   "source": [
    "library(lubridate)"
   ]
  },
  {
   "cell_type": "code",
   "execution_count": 32,
   "id": "95fde367",
   "metadata": {
    "vscode": {
     "languageId": "r"
    }
   },
   "outputs": [],
   "source": [
    "#5. Add a new column named month\n",
    "cmg_data <- mutate(cmg_data, month = month(datadate))"
   ]
  },
  {
   "cell_type": "markdown",
   "id": "8adabecb",
   "metadata": {},
   "source": [
    "## Question 6"
   ]
  },
  {
   "cell_type": "code",
   "execution_count": 33,
   "id": "bffeece1",
   "metadata": {
    "vscode": {
     "languageId": "r"
    }
   },
   "outputs": [],
   "source": [
    "#6. Add a new column named year\n",
    "cmg_data <- mutate(cmg_data, year = year(datadate))"
   ]
  },
  {
   "cell_type": "code",
   "execution_count": 34,
   "id": "62aedc6b",
   "metadata": {
    "vscode": {
     "languageId": "r"
    }
   },
   "outputs": [
    {
     "data": {
      "text/html": [
       "<table class=\"dataframe\">\n",
       "<caption>A data.frame: 10 × 3</caption>\n",
       "<thead>\n",
       "\t<tr><th></th><th scope=col>datadate</th><th scope=col>month</th><th scope=col>year</th></tr>\n",
       "\t<tr><th></th><th scope=col>&lt;date&gt;</th><th scope=col>&lt;dbl&gt;</th><th scope=col>&lt;dbl&gt;</th></tr>\n",
       "</thead>\n",
       "<tbody>\n",
       "\t<tr><th scope=row>1</th><td>2020-09-17</td><td>9</td><td>2020</td></tr>\n",
       "\t<tr><th scope=row>2</th><td>2020-09-18</td><td>9</td><td>2020</td></tr>\n",
       "\t<tr><th scope=row>3</th><td>2020-09-21</td><td>9</td><td>2020</td></tr>\n",
       "\t<tr><th scope=row>4</th><td>2020-09-22</td><td>9</td><td>2020</td></tr>\n",
       "\t<tr><th scope=row>5</th><td>2020-09-23</td><td>9</td><td>2020</td></tr>\n",
       "\t<tr><th scope=row>6</th><td>2020-09-24</td><td>9</td><td>2020</td></tr>\n",
       "\t<tr><th scope=row>7</th><td>2020-09-25</td><td>9</td><td>2020</td></tr>\n",
       "\t<tr><th scope=row>8</th><td>2020-09-28</td><td>9</td><td>2020</td></tr>\n",
       "\t<tr><th scope=row>9</th><td>2020-09-29</td><td>9</td><td>2020</td></tr>\n",
       "\t<tr><th scope=row>10</th><td>2020-09-30</td><td>9</td><td>2020</td></tr>\n",
       "</tbody>\n",
       "</table>\n"
      ],
      "text/latex": [
       "A data.frame: 10 × 3\n",
       "\\begin{tabular}{r|lll}\n",
       "  & datadate & month & year\\\\\n",
       "  & <date> & <dbl> & <dbl>\\\\\n",
       "\\hline\n",
       "\t1 & 2020-09-17 & 9 & 2020\\\\\n",
       "\t2 & 2020-09-18 & 9 & 2020\\\\\n",
       "\t3 & 2020-09-21 & 9 & 2020\\\\\n",
       "\t4 & 2020-09-22 & 9 & 2020\\\\\n",
       "\t5 & 2020-09-23 & 9 & 2020\\\\\n",
       "\t6 & 2020-09-24 & 9 & 2020\\\\\n",
       "\t7 & 2020-09-25 & 9 & 2020\\\\\n",
       "\t8 & 2020-09-28 & 9 & 2020\\\\\n",
       "\t9 & 2020-09-29 & 9 & 2020\\\\\n",
       "\t10 & 2020-09-30 & 9 & 2020\\\\\n",
       "\\end{tabular}\n"
      ],
      "text/markdown": [
       "\n",
       "A data.frame: 10 × 3\n",
       "\n",
       "| <!--/--> | datadate &lt;date&gt; | month &lt;dbl&gt; | year &lt;dbl&gt; |\n",
       "|---|---|---|---|\n",
       "| 1 | 2020-09-17 | 9 | 2020 |\n",
       "| 2 | 2020-09-18 | 9 | 2020 |\n",
       "| 3 | 2020-09-21 | 9 | 2020 |\n",
       "| 4 | 2020-09-22 | 9 | 2020 |\n",
       "| 5 | 2020-09-23 | 9 | 2020 |\n",
       "| 6 | 2020-09-24 | 9 | 2020 |\n",
       "| 7 | 2020-09-25 | 9 | 2020 |\n",
       "| 8 | 2020-09-28 | 9 | 2020 |\n",
       "| 9 | 2020-09-29 | 9 | 2020 |\n",
       "| 10 | 2020-09-30 | 9 | 2020 |\n",
       "\n"
      ],
      "text/plain": [
       "   datadate   month year\n",
       "1  2020-09-17 9     2020\n",
       "2  2020-09-18 9     2020\n",
       "3  2020-09-21 9     2020\n",
       "4  2020-09-22 9     2020\n",
       "5  2020-09-23 9     2020\n",
       "6  2020-09-24 9     2020\n",
       "7  2020-09-25 9     2020\n",
       "8  2020-09-28 9     2020\n",
       "9  2020-09-29 9     2020\n",
       "10 2020-09-30 9     2020"
      ]
     },
     "metadata": {},
     "output_type": "display_data"
    }
   ],
   "source": [
    "# show the table containing only the new 2 date columns\n",
    "cmg_data_dates <- filter(cmg_data[ , c(\"datadate\", \"month\", \"year\")])\n",
    "head(cmg_data_dates, 10)"
   ]
  },
  {
   "cell_type": "markdown",
   "id": "fe7a6c25",
   "metadata": {},
   "source": [
    "## Question 7"
   ]
  },
  {
   "cell_type": "code",
   "execution_count": 35,
   "id": "5e7b6b49",
   "metadata": {
    "vscode": {
     "languageId": "r"
    }
   },
   "outputs": [
    {
     "data": {
      "text/html": [
       "5392605"
      ],
      "text/latex": [
       "5392605"
      ],
      "text/markdown": [
       "5392605"
      ],
      "text/plain": [
       "[1] 5392605"
      ]
     },
     "metadata": {},
     "output_type": "display_data"
    }
   ],
   "source": [
    "#7. Calculate the total trade volume (cshtrd) for June 2023\n",
    "trade_volume_2023_06 <- filter(cmg_data, year == 2023 & month == 6)\n",
    "\n",
    "sum(trade_volume_2023_06$cshtrd)"
   ]
  },
  {
   "cell_type": "markdown",
   "id": "6ab79708",
   "metadata": {},
   "source": [
    "## Question 8"
   ]
  },
  {
   "cell_type": "code",
   "execution_count": 36,
   "id": "c161d6e5",
   "metadata": {
    "vscode": {
     "languageId": "r"
    }
   },
   "outputs": [
    {
     "name": "stdout",
     "output_type": "stream",
     "text": [
      "[1] 0.000789406\n"
     ]
    }
   ],
   "source": [
    "#8. Calculate the mean of daily return over the period\n",
    "mean_daily_return <- mean(cmg_data$daily_return)\n",
    "print(mean_daily_return)"
   ]
  },
  {
   "cell_type": "markdown",
   "id": "6e82a432",
   "metadata": {},
   "source": [
    "## Question 9"
   ]
  },
  {
   "cell_type": "code",
   "execution_count": 37,
   "id": "72157dfd",
   "metadata": {
    "vscode": {
     "languageId": "r"
    }
   },
   "outputs": [
    {
     "name": "stdout",
     "output_type": "stream",
     "text": [
      "[1] \"2023-07-19\"\n"
     ]
    }
   ],
   "source": [
    "#9. Find the date for maximum high price over the period\n",
    "max_high_price <- max(cmg_data$prchd)\n",
    "\n",
    "date_max_high_price <- filter(cmg_data, prchd == max_high_price)\n",
    "\n",
    "print(date_max_high_price$datadate)"
   ]
  },
  {
   "cell_type": "markdown",
   "id": "eb0ec8ef",
   "metadata": {},
   "source": [
    "## Question 10"
   ]
  },
  {
   "cell_type": "code",
   "execution_count": 38,
   "id": "31aada68",
   "metadata": {
    "vscode": {
     "languageId": "r"
    }
   },
   "outputs": [
    {
     "name": "stdout",
     "output_type": "stream",
     "text": [
      "[1] \"2022-07-27\"\n"
     ]
    }
   ],
   "source": [
    "#10. Find the date for largest daily return over the period\n",
    "max_daily_return <- max(cmg_data$daily_return)\n",
    "date_max_daily_return <- filter(cmg_data, daily_return == max_daily_return)\n",
    "print(date_max_daily_return$datadate)"
   ]
  }
 ],
 "metadata": {
  "kernelspec": {
   "display_name": "R",
   "language": "R",
   "name": "ir"
  },
  "language_info": {
   "codemirror_mode": "r",
   "file_extension": ".r",
   "mimetype": "text/x-r-source",
   "name": "R",
   "pygments_lexer": "r",
   "version": "4.5.1"
  }
 },
 "nbformat": 4,
 "nbformat_minor": 5
}
